{
 "cells": [
  {
   "cell_type": "markdown",
   "metadata": {},
   "source": [
    "# Importing Libraries"
   ]
  },
  {
   "cell_type": "code",
   "execution_count": 1,
   "metadata": {},
   "outputs": [],
   "source": [
    "import numpy as np\n",
    "import pandas as pd\n",
    "import re\n",
    "import nltk\n",
    "import matplotlib.pyplot as plt"
   ]
  },
  {
   "cell_type": "markdown",
   "metadata": {},
   "source": [
    "# Importing Dataset"
   ]
  },
  {
   "cell_type": "code",
   "execution_count": 2,
   "metadata": {},
   "outputs": [
    {
     "name": "stdout",
     "output_type": "stream",
     "text": [
      "                                                Review  Liked\n",
      "0                             Wow... Loved this place.      1\n",
      "1                                   Crust is not good.      0\n",
      "2            Not tasty and the texture was just nasty.      0\n",
      "3    Stopped by during the late May bank holiday of...      1\n",
      "4    The selection on the menu was great and so wer...      1\n",
      "..                                                 ...    ...\n",
      "995  I think food should have flavor and texture an...      0\n",
      "996                           Appetite instantly gone.      0\n",
      "997  Overall I was not impressed and would not go b...      0\n",
      "998  The whole experience was underwhelming, and I ...      0\n",
      "999  Then, as if I hadn't wasted enough of my life ...      0\n",
      "\n",
      "[1000 rows x 2 columns]\n"
     ]
    }
   ],
   "source": [
    "df = pd.read_csv('Restaurant_reviews.tsv',delimiter = '\\t',quoting = 3)\n",
    "print(df)"
   ]
  },
  {
   "cell_type": "markdown",
   "metadata": {},
   "source": [
    "# EDA"
   ]
  },
  {
   "cell_type": "code",
   "execution_count": 3,
   "metadata": {},
   "outputs": [
    {
     "name": "stdout",
     "output_type": "stream",
     "text": [
      "<class 'pandas.core.frame.DataFrame'>\n",
      "RangeIndex: 1000 entries, 0 to 999\n",
      "Data columns (total 2 columns):\n",
      " #   Column  Non-Null Count  Dtype \n",
      "---  ------  --------------  ----- \n",
      " 0   Review  1000 non-null   object\n",
      " 1   Liked   1000 non-null   int64 \n",
      "dtypes: int64(1), object(1)\n",
      "memory usage: 15.8+ KB\n"
     ]
    }
   ],
   "source": [
    "df.info()"
   ]
  },
  {
   "cell_type": "markdown",
   "metadata": {},
   "source": [
    "## Checking Missing Values"
   ]
  },
  {
   "cell_type": "code",
   "execution_count": 4,
   "metadata": {},
   "outputs": [
    {
     "name": "stdout",
     "output_type": "stream",
     "text": [
      "        count  Percentage\n",
      "Liked       0         0.0\n",
      "Review      0         0.0\n"
     ]
    }
   ],
   "source": [
    "count = df.isnull().sum().sort_values(ascending=False)\n",
    "percentage = ((df.isnull().sum()/len(df)*100)).sort_values(ascending=False)\n",
    "missin_data = pd.concat([count,percentage],axis = 1,keys=['count','Percentage'])\n",
    "print(missin_data)"
   ]
  },
  {
   "cell_type": "code",
   "execution_count": 5,
   "metadata": {},
   "outputs": [
    {
     "data": {
      "text/plain": [
       "(1000, 2)"
      ]
     },
     "execution_count": 5,
     "metadata": {},
     "output_type": "execute_result"
    }
   ],
   "source": [
    "df.shape"
   ]
  },
  {
   "cell_type": "code",
   "execution_count": 6,
   "metadata": {},
   "outputs": [
    {
     "name": "stdout",
     "output_type": "stream",
     "text": [
      "Percentage for Defalut\n",
      "1    50.0\n",
      "0    50.0\n",
      "Name: Liked, dtype: float64\n"
     ]
    },
    {
     "data": {
      "image/png": "[encoded data removed]",
      "text/plain": [
       "<Figure size 432x288 with 1 Axes>"
      ]
     },
     "metadata": {
      "needs_background": "light"
     },
     "output_type": "display_data"
    }
   ],
   "source": [
    "import matplotlib.pyplot as plt\n",
    "%matplotlib inline\n",
    "print(\"Percentage for Defalut\")\n",
    "print(round(df.Liked.value_counts(normalize=True)*100,2))\n",
    "round(df.Liked.value_counts(normalize=True)*100,2).plot(kind='bar')\n",
    "plt.title('Pecentage of distribution by review type')\n",
    "plt.show()"
   ]
  },
  {
   "cell_type": "markdown",
   "metadata": {},
   "source": [
    "# Refining the Data"
   ]
  },
  {
   "cell_type": "code",
   "execution_count": 7,
   "metadata": {},
   "outputs": [
    {
     "name": "stderr",
     "output_type": "stream",
     "text": [
      "[nltk_data] Error loading stopwords: <urlopen error [Errno 11001]\n",
      "[nltk_data]     getaddrinfo failed>\n"
     ]
    }
   ],
   "source": [
    "import re\n",
    "import nltk\n",
    "nltk.download('stopwords')\n",
    "from nltk.corpus import stopwords\n",
    "from nltk.stem.porter import PorterStemmer\n",
    "corpus = [] # this list will contain all the refined reviews"
   ]
  },
  {
   "cell_type": "code",
   "execution_count": 8,
   "metadata": {},
   "outputs": [
    {
     "name": "stdout",
     "output_type": "stream",
     "text": [
      "['i', 'me', 'my', 'myself', 'we', 'our', 'ours', 'ourselves', 'you', \"you're\", \"you've\", \"you'll\", \"you'd\", 'your', 'yours', 'yourself', 'yourselves', 'he', 'him', 'his', 'himself', 'she', \"she's\", 'her', 'hers', 'herself', 'it', \"it's\", 'its', 'itself', 'they', 'them', 'their', 'theirs', 'themselves', 'what', 'which', 'who', 'whom', 'this', 'that', \"that'll\", 'these', 'those', 'am', 'is', 'are', 'was', 'were', 'be', 'been', 'being', 'have', 'has', 'had', 'having', 'do', 'does', 'did', 'doing', 'a', 'an', 'the', 'and', 'but', 'if', 'or', 'because', 'as', 'until', 'while', 'of', 'at', 'by', 'for', 'with', 'about', 'against', 'between', 'into', 'through', 'during', 'before', 'after', 'above', 'below', 'to', 'from', 'up', 'down', 'in', 'out', 'on', 'off', 'over', 'under', 'again', 'further', 'then', 'once', 'here', 'there', 'when', 'where', 'why', 'how', 'all', 'any', 'both', 'each', 'few', 'more', 'most', 'other', 'some', 'such', 'nor', 'only', 'own', 'same', 'so', 'than', 'too', 'very', 's', 't', 'can', 'will', 'just', 'should', \"should've\", 'now', 'd', 'll', 'm', 'o', 're', 've', 'y']\n"
     ]
    }
   ],
   "source": [
    "for i in range(0,1000):\n",
    "    review = df['Review'][i] # collecting the reviews one by one\n",
    "    review = re.sub('[^a-zA-Z]',' ',review)  # relacing the punctuations with space\n",
    "    review = review.lower()  # converting all the characters to lowercase\n",
    "    review = review.split() # converting a statement to list of words\n",
    "    ps = PorterStemmer() # creating the object for PorterStemmer class\n",
    "    all_stopwords = stopwords.words('english') # collecting the english language stopwords\n",
    "    #removing not words from the stopwords\n",
    "    st = ['not','no','don',\"don't\",'wasn',\"wasn't\", 'weren', \"weren't\", 'won', \"won't\",'wouldn', \"wouldn't\",'ain', 'aren', \"aren't\", 'couldn', \"couldn't\", 'didn', \"didn't\", 'doesn', \"doesn't\", 'hadn', \"hadn't\", 'hasn', \"hasn't\", 'haven', \"haven't\", 'isn', \"isn't\", 'ma', 'mightn', \"mightn't\", 'mustn', \"mustn't\", 'needn', \"needn't\", 'shan', \"shan't\", 'shouldn',\"shouldn't\"]\n",
    "    for stop in range(len(st)):\n",
    "        all_stopwords.remove(st[stop])\n",
    "    review = [ps.stem(word) for word in review if not word in set(all_stopwords)]\n",
    "    #coverting the list of words back to statement using 'join()'\n",
    "    review = ' '.join(review)\n",
    "    corpus.append(review)\n",
    "#print(corpus)\n",
    "print(all_stopwords)"
   ]
  },
  {
   "cell_type": "markdown",
   "metadata": {},
   "source": [
    "## Creating Bag of Words"
   ]
  },
  {
   "cell_type": "code",
   "execution_count": 9,
   "metadata": {},
   "outputs": [],
   "source": [
    "from sklearn.feature_extraction.text import CountVectorizer\n",
    "cv = CountVectorizer(max_features = 1500)\n",
    " # using max_features parameter of CountVectorizer limits the number of columns in x\n",
    "x = cv.fit_transform(corpus).toarray()\n",
    "y = df.iloc[:,-1].values"
   ]
  },
  {
   "cell_type": "markdown",
   "metadata": {},
   "source": [
    "## Frequency Count Method"
   ]
  },
  {
   "cell_type": "code",
   "execution_count": 10,
   "metadata": {},
   "outputs": [
    {
     "data": {
      "text/plain": [
       "1580"
      ]
     },
     "execution_count": 10,
     "metadata": {},
     "output_type": "execute_result"
    }
   ],
   "source": [
    "#creating a vocabulary(list of all words)\n",
    "vocab = []\n",
    "for i in corpus:\n",
    "    words = i.split()\n",
    "    vocab.extend(words)\n",
    "# print(vocab)\n",
    "#removing repeated words in vocab\n",
    "unq_words = list(set(vocab))\n",
    "# print(unq_words)\n",
    "len(unq_words)"
   ]
  },
  {
   "cell_type": "markdown",
   "metadata": {},
   "source": [
    "## Creating a dictionary"
   ]
  },
  {
   "cell_type": "code",
   "execution_count": 11,
   "metadata": {},
   "outputs": [
    {
     "name": "stdout",
     "output_type": "stream",
     "text": [
      "1000\n",
      "1000\n",
      "1 wow love place\n",
      "0 crust not good\n",
      "0 not tasti textur nasti\n",
      "1 stop late may bank holiday rick steve recommend love\n",
      "1 select menu great price\n",
      "0 get angri want damn pho\n",
      "0 honeslti didn tast fresh\n",
      "0 potato like rubber could tell made ahead time kept warmer\n",
      "1 fri great\n",
      "1 great touch\n",
      "1 servic prompt\n",
      "0 would not go back\n",
      "0 cashier no care ever say still end wayyy overpr\n",
      "1 tri cape cod ravoli chicken cranberri mmmm\n",
      "0 disgust pretti sure human hair\n",
      "0 shock no sign indic cash\n",
      "1 highli recommend\n",
      "0 waitress littl slow servic\n",
      "0 place not worth time let alon vega\n",
      "0 not like\n",
      "0 burritto blah\n",
      "1 food amaz\n",
      "1 servic also cute\n",
      "1 could care less interior beauti\n",
      "1 perform\n",
      "1 right red velvet cake ohhh stuff good\n",
      "0 never brought salad ask\n",
      "1 hole wall great mexican street taco friendli staff\n",
      "0 took hour get food tabl restaur food luke warm sever run around like total overwhelm\n",
      "0 worst salmon sashimi\n",
      "1 also combo like burger fri beer decent deal\n",
      "0 like final blow\n",
      "1 found place accid could not happier\n",
      "0 seem like good quick place grab bite familiar pub food favor look elsewher\n",
      "1 overal like place lot\n",
      "1 redeem qualiti restaur inexpens\n",
      "1 ampl portion good price\n",
      "0 poor servic waiter made feel like stupid everi time came tabl\n",
      "1 first visit hiro delight\n",
      "0 servic suck\n",
      "1 shrimp tender moist\n",
      "0 not deal good enough would drag establish\n",
      "0 hard judg whether side good gross melt styrofoam didn want eat fear get sick\n",
      "1 posit note server attent provid great servic\n",
      "0 frozen puck disgust worst peopl behind regist\n",
      "1 thing like prime rib dessert section\n",
      "0 bad food damn gener\n",
      "1 burger good beef cook right\n",
      "1 want sandwich go firehous\n",
      "1 side greek salad greek dress tasti pita hummu refresh\n",
      "1 order duck rare pink tender insid nice char outsid\n",
      "1 came run us realiz husband left sunglass tabl\n",
      "1 chow mein good\n",
      "0 horribl attitud toward custom talk one custom don enjoy food\n",
      "1 portion huge\n",
      "1 love friendli server great food wonder imagin menu\n",
      "0 heart attack grill downtown vega absolut flat line excus restaur\n",
      "0 not much seafood like string pasta bottom\n",
      "1 salad right amount sauc not power scallop perfectli cook\n",
      "0 rip banana not rip petrifi tasteless\n",
      "0 least think refil water struggl wave minut\n",
      "1 place receiv star appet\n",
      "1 cocktail handmad delici\n",
      "1 definit go back\n",
      "1 glad found place\n",
      "1 great food servic huge portion give militari discount\n",
      "1 alway great time do gringo\n",
      "1 updat went back second time still amaz\n",
      "0 got food appar never heard salt batter fish chewi\n",
      "1 great way finish great\n",
      "1 deal includ tast drink jeff went beyond expect\n",
      "1 realli realli good rice time\n",
      "0 servic meh\n",
      "0 took min get milkshak noth chocol milk\n",
      "0 guess known place would suck insid excalibur didn use common sens\n",
      "0 scallop dish quit appal valu well\n",
      "0 time bad custom servic\n",
      "1 sweet potato fri good season well\n",
      "1 today second time lunch buffet pretti good\n",
      "0 much good food vega feel cheat wast eat opportun go rice compani\n",
      "0 come like experienc underwhelm relationship parti wait person ask break\n",
      "0 walk place smell like old greas trap other eat\n",
      "0 turkey roast beef bland\n",
      "1 place\n",
      "0 pan cake everyon rave tast like sugari disast tailor palat six year old\n",
      "1 love pho spring roll oh yummi tri\n",
      "0 poor batter meat ratio made chicken tender unsatisfi\n",
      "1 say food amaz\n",
      "1 omelet die\n",
      "1 everyth fresh delici\n",
      "0 summari larg disappoint dine experi\n",
      "1 like realli sexi parti mouth outrag flirt hottest person parti\n",
      "0 never hard rock casino never ever step forward\n",
      "1 best breakfast buffet\n",
      "0 say bye bye tip ladi\n",
      "0 never go\n",
      "1 back\n",
      "1 food arriv quickli\n",
      "0 not good\n",
      "1 side cafe serv realli good food\n",
      "1 server fantast found wife love roast garlic bone marrow ad extra meal anoth marrow go\n",
      "1 good thing waiter help kept bloddi mari come\n",
      "1 best buffet town price cannot beat\n",
      "1 love mussel cook wine reduct duck tender potato dish delici\n",
      "1 one better buffet\n",
      "1 went tigerlilli fantast afternoon\n",
      "1 food delici bartend attent person got great deal\n",
      "1 ambienc wonder music play\n",
      "1 go back next trip\n",
      "1 sooooo good\n",
      "0 real sushi lover let honest yama not good\n",
      "0 least min pass us order food arriv wasn busi\n",
      "1 realli fantast thai restaur definit worth visit\n",
      "1 nice spici tender\n",
      "1 good price\n",
      "1 check\n",
      "0 pretti gross\n",
      "0 better atmospher\n",
      "0 kind hard mess steak\n",
      "0 although much like look sound place actual experi bit disappoint\n",
      "0 don know place manag serv blandest food ever eaten prepar indian cuisin\n",
      "0 worst servic boot least worri\n",
      "1 servic fine waitress friendli\n",
      "1 guy steak steak love son steak best worst place said best steak ever eaten\n",
      "1 thought ventur away get good sushi place realli hit spot night\n",
      "0 host staff lack better word bitch\n",
      "0 bland not like place number reason don want wast time bad review leav\n",
      "1 phenomen food servic ambianc\n",
      "0 wouldn return\n",
      "1 definit worth ventur strip pork belli return next time vega\n",
      "0 place way overpr mediocr food\n",
      "1 penn vodka excel\n",
      "1 good select food includ massiv meatloaf sandwich crispi chicken wrap delish tuna melt tasti burger\n",
      "0 manag rude\n",
      "1 delici nyc bagel good select cream chees real lox caper even\n",
      "1 great subway fact good come everi subway not meet expect\n",
      "1 serious solid breakfast\n",
      "1 one best bar food vega\n",
      "0 extrem rude realli mani restaur would love dine weekend vega\n",
      "1 drink never empti made realli great menu suggest\n",
      "0 don\n",
      "0 waiter wasn help friendli rare check us\n",
      "0 husband ate lunch disappoint food servic\n",
      "0 red curri much bamboo shoot wasn tasti\n",
      "1 nice blanket moz top feel like done cover subpar food\n",
      "1 bathroom clean place well decor\n",
      "0 menu alway chang food qualiti go servic extrem slow\n",
      "0 servic littl slow consid serv peopl server food come slow pace\n",
      "0 give thumb\n",
      "0 watch waiter pay lot attent tabl ignor us\n",
      "1 fianc came middl day greet seat right away\n",
      "1 great restaur mandalay bay\n",
      "0 wait forti five minut vain\n",
      "0 crostini came salad stale\n",
      "1 highlight great qualiti nigiri\n",
      "1 staff friendli joint alway clean\n",
      "1 differ cut piec day still wonder tender well well flavor\n",
      "1 order voodoo pasta first time realli excel pasta sinc go gluten free sever year ago\n",
      "1 place good\n",
      "0 unfortun must hit bakeri leftov day everyth order stale\n",
      "0 came back today sinc reloc still not impress\n",
      "1 seat immedi\n",
      "1 menu divers reason price\n",
      "0 avoid cost\n",
      "1 restaur alway full never wait\n",
      "1 delici\n",
      "1 place hand one best place eat phoenix metro area\n",
      "0 don go look good food\n",
      "0 never treat bad\n",
      "1 bacon hella salti\n",
      "0 also order spinach avocado salad ingredi sad dress liter zero tast\n",
      "1 realli vega fine dine use right menu hand ladi no price list\n",
      "1 waitress friendli\n",
      "1 lordi khao soi dish not miss curri lover\n",
      "1 everyth menu terrif also thrill made amaz accommod vegetarian daughter\n",
      "0 perhap caught night judg review not inspir go back\n",
      "0 servic leav lot desir\n",
      "1 atmospher modern hip maintain touch cozi\n",
      "1 not weekli haunt definit place come back everi\n",
      "0 liter sat minut no one ask take order\n",
      "0 burger absolut no flavor meat total bland burger overcook no charcoal flavor\n",
      "0 also decid not send back waitress look like verg heart attack\n",
      "0 dress treat rude\n",
      "0 probabl dirt\n",
      "1 love place hit spot want someth healthi not lack quantiti flavor\n",
      "1 order lemon raspberri ice cocktail also incred\n",
      "0 food suck expect suck could imagin\n",
      "1 interest decor\n",
      "1 realli like crepe station\n",
      "1 also serv hot bread butter home made potato chip bacon bit top origin good\n",
      "1 watch prepar delici food\n",
      "1 egg roll fantast\n",
      "0 order arriv one gyro miss\n",
      "1 salad wing ice cream dessert left feel quit satisfi\n",
      "0 not realli sure joey vote best hot dog valley reader phoenix magazin\n",
      "1 best place go tasti bowl pho\n",
      "0 live music friday total blow\n",
      "0 never insult felt disrespect\n",
      "1 friendli staff\n",
      "1 worth drive\n",
      "1 heard good thing place exceed everi hope could dream\n",
      "1 food great serivc\n",
      "0 warm beer didn help\n",
      "1 great brunch spot\n",
      "1 servic friendli invit\n",
      "1 good lunch spot\n",
      "0 live sinc first last time step foot place\n",
      "0 worst experi ever\n",
      "0 must night place\n",
      "1 side delish mix mushroom yukon gold pure white corn beateou\n",
      "0 bug never show would given sure side wall bug climb kitchen\n",
      "0 minut wait salad realiz wasn come time soon\n",
      "1 friend love salmon tartar\n",
      "0 won go back\n",
      "1 extrem tasti\n",
      "1 waitress good though\n",
      "0 soggi not good\n",
      "1 jamaican mojito delici\n",
      "0 small not worth price\n",
      "1 food rich order accordingli\n",
      "0 shower area outsid rins not take full shower unless don mind nude everyon see\n",
      "0 servic bit lack\n",
      "0 lobster bisqu bussel sprout risotto filet need salt pepper cours none tabl\n",
      "0 hope bode go busi someon cook come\n",
      "0 either cold not enough flavor bad\n",
      "1 love bacon wrap date\n",
      "1 unbeliev bargain\n",
      "1 folk otto alway make us feel welcom special\n",
      "0 main also uninspir\n",
      "1 place first pho amaz\n",
      "1 wonder experi made place must stop whenev town\n",
      "0 food isn bad enough enjoy deal world worst annoy drunk peopl\n",
      "1 fun chef\n",
      "0 order doubl cheeseburg got singl patti fall apart pictur upload yeah still suck\n",
      "1 great place coupl drink watch sport event wall cover tv\n",
      "0 possibl give zero star\n",
      "0 descript said yum yum sauc anoth said eel sauc yet anoth said spici mayo well none roll sauc\n",
      "1 say would hardest decis honestli dish tast suppos tast amaz\n",
      "0 not roll eye may stay not sure go back tri\n",
      "1 everyon attent provid excel custom servic\n",
      "0 horribl don wast time money\n",
      "1 dish quit flavour\n",
      "0 time side restaur almost empti no excus\n",
      "0 wasn busi either also build freez cold\n",
      "0 like review said couldn pay eat place\n",
      "0 drink took close minut come one point\n",
      "1 serious flavor delight folk\n",
      "1 much better ayc sushi place went vega\n",
      "1 light dark enough set mood\n",
      "0 base sub par servic receiv no effort show gratitud busi won go back\n",
      "1 owner realli great peopl\n",
      "0 noth privileg work eat\n",
      "1 greek dress creami flavor\n",
      "0 overal don think would take parent place made similar complaint silent felt\n",
      "1 pizza good peanut sauc tasti\n",
      "1 tabl servic pretti fast\n",
      "1 fantast servic\n",
      "0 well would given godfath zero star possibl\n",
      "1 know make\n",
      "0 tough short flavor\n",
      "1 hope place stick around\n",
      "0 bar vega not ever recal charg tap water\n",
      "1 restaur atmospher exquisit\n",
      "1 good servic clean inexpens boot\n",
      "1 seafood fresh gener portion\n",
      "1 plu buck\n",
      "0 servic not par either\n",
      "1 thu far visit twice food absolut delici time\n",
      "1 good year ago\n",
      "0 self proclaim coffe cafe wildli disappoint\n",
      "1 veggitarian platter world\n",
      "1 cant go wrong food\n",
      "1 beat\n",
      "1 stop place madison ironman friendli kind staff\n",
      "1 chef friendli good job\n",
      "0 better not dedic boba tea spot even jenni pho\n",
      "1 like patio servic outstand\n",
      "1 goat taco didn skimp meat wow flavor\n",
      "0 think not\n",
      "0 mac salad pretti bland not get\n",
      "1 went bachi burger friend recommend not disappoint\n",
      "0 servic stink\n",
      "0 wait wait\n",
      "0 place not qualiti sushi not qualiti restaur\n",
      "1 would definit recommend wing well pizza\n",
      "1 great pizza salad\n",
      "0 thing went wrong burn saganaki\n",
      "0 wait hour breakfast could done time better home\n",
      "1 place amaz\n",
      "0 hate disagre fellow yelper husband disappoint place\n",
      "0 wait hour never got either pizza mani around us came later\n",
      "0 don know slow\n",
      "1 staff great food delish incred beer select\n",
      "0 live neighborhood disappoint won back conveni locat\n",
      "1 didn know pull pork could soooo delici\n",
      "1 get incred fresh fish prepar care\n",
      "0 go gave star rate pleas know third time eat bachi burger write review\n",
      "1 love fact everyth menu worth\n",
      "0 never dine place\n",
      "1 food excel servic good\n",
      "1 good beer drink select good food select\n",
      "0 pleas stay away shrimp stir fri noodl\n",
      "0 potato chip order sad could probabl count mani chip box probabl around\n",
      "0 food realli bore\n",
      "1 good servic check\n",
      "0 greedi corpor never see anoth dime\n",
      "0 never ever go back\n",
      "0 much like go back get pass atroci servic never return\n",
      "1 summer dine charm outdoor patio delight\n",
      "1 not expect good\n",
      "1 fantast food\n",
      "0 order toast english muffin came untoast\n",
      "1 food good\n",
      "0 never go back\n",
      "1 great food price high qualiti hous made\n",
      "0 bu boy hand rude\n",
      "0 point friend basic figur place joke didn mind make publicli loudli known\n",
      "1 back good bbq lighter fare reason price tell public back old way\n",
      "1 consid two us left full happi go wrong\n",
      "1 bread made hous\n",
      "0 downsid servic\n",
      "0 also fri without doubt worst fri ever\n",
      "1 servic except food good review\n",
      "1 coupl month later return amaz meal\n",
      "1 favorit place town shawarrrrrrma\n",
      "1 black eye pea sweet potato unreal\n",
      "1 won disappoint\n",
      "1 could serv vinaigrett may make better overal dish still good\n",
      "0 go far mani place never seen restaur serv egg breakfast especi\n",
      "0 mom got home immedi got sick bite salad\n",
      "0 server not pleasant deal don alway honor pizza hut coupon\n",
      "1 truli unbeliev good glad went back\n",
      "1 fantast servic pleas atmospher\n",
      "0 everyth gross\n",
      "1 love place\n",
      "1 great servic food\n",
      "0 first bathroom locat dirti seat cover not replenish plain yucki\n",
      "0 burger got gold standard burger kind disappoint\n",
      "1 omg food delicioso\n",
      "0 noth authent place\n",
      "0 spaghetti noth special whatsoev\n",
      "1 dish salmon best great\n",
      "1 veget fresh sauc feel like authent thai\n",
      "1 worth drive tucson\n",
      "0 select probabl worst seen vega none\n",
      "1 pretti good beer select\n",
      "1 place like chipotl better\n",
      "1 classi warm atmospher fun fresh appet succul steak basebal steak\n",
      "1 star brick oven bread app\n",
      "1 eaten multipl time time food delici\n",
      "0 sat anoth ten minut final gave left\n",
      "0 terribl\n",
      "1 everyon treat equal special\n",
      "0 shouldn take min pancak egg\n",
      "1 delici\n",
      "1 good side staff genuin pleasant enthusiast real treat\n",
      "0 sadli gordon ramsey steak place shall sharpli avoid next trip vega\n",
      "1 alway even wonder food delici\n",
      "1 best fish ever life\n",
      "1 bathroom next door nice\n",
      "0 buffet small food offer bland\n",
      "1 outstand littl restaur best food ever tast\n",
      "1 pretti cool would say\n",
      "0 definit turn doubt back unless someon els buy\n",
      "1 server great job handl larg rowdi tabl\n",
      "0 find wast food despic wasn food\n",
      "0 wife lobster bisqu soup lukewarm\n",
      "1 would come back sushi crave vega\n",
      "1 staff great ambianc great\n",
      "1 deserv star\n",
      "0 left stomach ach felt sick rest day\n",
      "0 drop ball\n",
      "1 dine space tini elegantli decor comfort\n",
      "1 custom order way like usual eggplant green bean stir fri love\n",
      "0 bean rice mediocr best\n",
      "1 best taco town far\n",
      "0 took back money got outta\n",
      "1 interest part town place amaz\n",
      "0 rude inconsider manag\n",
      "0 staff not friendli wait time serv horribl no one even say hi first minut\n",
      "0 won back\n",
      "1 great dinner\n",
      "1 servic outshin definit recommend halibut\n",
      "0 food terribl\n",
      "0 never ever go back told mani peopl happen\n",
      "0 don recommend unless car break front starv\n",
      "1 come back everi time vega\n",
      "0 place deserv one star food\n",
      "0 disgrac\n",
      "1 def come back bowl next time\n",
      "1 want healthi authent ethic food tri place\n",
      "1 continu come ladi night andddd date night highli recommend place anyon area\n",
      "1 sever time past experi alway great\n",
      "1 walk away stuf happi first vega buffet experi\n",
      "1 servic excel price pretti reason consid vega locat insid crystal shop mall aria\n",
      "1 summar food incred nay transcend noth bring joy quit like memori pneumat condiment dispens\n",
      "0 probabl one peopl ever go ian not like\n",
      "1 kid pizza alway hit lot great side dish option kiddo\n",
      "1 servic perfect famili atmospher nice see\n",
      "1 cook perfect servic impecc\n",
      "0 one simpli disappoint\n",
      "0 overal disappoint qualiti food bouchon\n",
      "0 don account know get screw\n",
      "1 great place eat remind littl mom pop shop san francisco bay area\n",
      "1 today first tast buldogi gourmet hot dog tell ever thought possibl\n",
      "0 left frustrat\n",
      "1 definit soon\n",
      "1 food realli good got full petti fast\n",
      "1 servic fantast\n",
      "0 total wast time\n",
      "1 don know kind best ice tea\n",
      "1 come hungri leav happi stuf\n",
      "0 servic give no star\n",
      "1 assur won disappoint\n",
      "0 take littl bad servic food suck\n",
      "0 gave tri eat crust teeth still sore\n",
      "0 complet gross\n",
      "1 realli enjoy eat\n",
      "1 first time go think quickli becom regular\n",
      "1 server nice even though look littl overwhelm need stay profession friendli end\n",
      "1 dinner companion told everyth fresh nice textur tast\n",
      "0 ground right next tabl larg smear step track everywher pile green bird poop\n",
      "0 furthermor even find hour oper websit\n",
      "0 tri like place time think done\n",
      "0 mistak\n",
      "1 no complaint\n",
      "1 serious good pizza expert connisseur topic\n",
      "0 waiter jerk\n",
      "0 strike want rush\n",
      "1 nicest restaur owner ever come across\n",
      "0 never come\n",
      "1 love biscuit\n",
      "1 servic quick friendli\n",
      "0 order appet took minut pizza anoth minut\n",
      "1 absolutley fantast\n",
      "0 huge awkward lb piec cow th gristl fat\n",
      "1 definit come back\n",
      "1 like steiner dark feel like bar\n",
      "1 wow spici delici\n",
      "1 not familiar check\n",
      "0 take busi dinner dollar elsewher\n",
      "1 love go back\n",
      "1 anyway fs restaur wonder breakfast lunch\n",
      "0 noth special\n",
      "1 day week differ deal delici\n",
      "1 not mention combin pear almond bacon big winner\n",
      "0 not back\n",
      "0 sauc tasteless\n",
      "1 food delici spici enough sure ask spicier prefer way\n",
      "1 ribey steak cook perfectli great mesquit flavor\n",
      "0 don think go back anytim soon\n",
      "1 food gooodd\n",
      "0 far sushi connoisseur definit tell differ good food bad food certainli bad food\n",
      "0 insult\n",
      "0 last time lunch bad\n",
      "0 chicken wing contain driest chicken meat ever eaten\n",
      "1 food good enjoy everi mouth enjoy relax venu coupl small famili group etc\n",
      "1 nargil think great\n",
      "1 best tater tot southwest\n",
      "1 love place\n",
      "0 definit not worth paid\n",
      "1 vanilla ice cream creami smooth profiterol choux pastri fresh enough\n",
      "1 im az time new spot\n",
      "0 manag worst\n",
      "1 insid realli quit nice clean\n",
      "1 food outstand price reason\n",
      "0 don think run back carli anytim soon food\n",
      "0 due fact took minut acknowledg anoth minut get food kept forget thing\n",
      "1 love margarita\n",
      "1 first vega buffet not disappoint\n",
      "1 good though\n",
      "0 one note ventil could use upgrad\n",
      "1 great pork sandwich\n",
      "0 don wast time\n",
      "0 total letdown would much rather go camelback flower shop cartel coffe\n",
      "0 third chees friend burger cold\n",
      "1 enjoy pizza brunch\n",
      "1 steak well trim also perfectli cook\n",
      "1 group claim would handl us beauti\n",
      "1 love\n",
      "0 ask bill leav without eat didn bring either\n",
      "1 place jewel la vega exactli hope find nearli ten year live\n",
      "0 seafood limit boil shrimp crab leg crab leg definit not tast fresh\n",
      "0 select food not best\n",
      "1 delici absolut back\n",
      "1 isn small famili restaur fine dine establish\n",
      "1 toro tartar cavier extraordinari like thinli slice wagyu white truffl\n",
      "0 dont think back long time\n",
      "0 attach ga station rare good sign\n",
      "1 awesom\n",
      "1 back mani time soon\n",
      "1 menu much good stuff could not decid\n",
      "0 wors humili worker right front bunch horribl name call\n",
      "1 conclus fill meal\n",
      "1 daili special alway hit group\n",
      "0 tragedi struck\n",
      "1 pancak also realli good pretti larg\n",
      "1 first crawfish experi delici\n",
      "1 monster chicken fri steak egg time favorit\n",
      "1 waitress sweet funni\n",
      "1 also tast mom multi grain pumpkin pancak pecan butter amaz fluffi delici\n",
      "0 rather eat airlin food serious\n",
      "1 cant say enough good thing place\n",
      "1 ambianc incred\n",
      "1 waitress manag friendli\n",
      "0 would not recommend place\n",
      "0 overal wasn impress noca\n",
      "0 gyro basic lettuc\n",
      "0 terribl servic\n",
      "0 thoroughli disappoint\n",
      "1 don much pasta love homemad hand made pasta thin pizza\n",
      "1 give tri happi\n",
      "1 far best cheesecurd ever\n",
      "1 reason price also\n",
      "1 everyth perfect night\n",
      "1 food good typic bar food\n",
      "0 drive get\n",
      "1 first glanc love bakeri cafe nice ambianc clean friendli staff\n",
      "0 anyway not think go back\n",
      "1 point finger item menu order won disappoint\n",
      "1 oh thing beauti restaur\n",
      "1 haven gone go\n",
      "0 greasi unhealthi meal\n",
      "0 first time might last\n",
      "1 burger amaz\n",
      "0 similarli deliveri man not say word apolog food minut late\n",
      "0 way expens\n",
      "1 sure order dessert even need pack go tiramisu cannoli die\n",
      "1 first time wait next\n",
      "1 bartend also nice\n",
      "1 everyth good tasti\n",
      "1 place two thumb way\n",
      "1 best place vega breakfast check sat sun\n",
      "1 love authent mexican food want whole bunch interest yet delici meat choos need tri place\n",
      "0 terribl manag\n",
      "1 excel new restaur experienc frenchman\n",
      "0 zero star would give zero star\n",
      "1 great steak great side great wine amaz dessert\n",
      "0 worst martini ever\n",
      "1 steak shrimp opinion best entre gc\n",
      "1 opportun today sampl amaz pizza\n",
      "0 wait thirti minut seat although vacant tabl folk wait\n",
      "1 yellowtail carpaccio melt mouth fresh\n",
      "0 won tri go back even empti\n",
      "0 no go eat potato found stranger hair\n",
      "1 spici enough perfect actual\n",
      "1 last night second time dine happi decid go back\n",
      "0 not even hello right\n",
      "0 dessert bit strang\n",
      "1 boyfriend came first time recent trip vega could not pleas qualiti food servic\n",
      "1 realli recommend place go wrong donut place\n",
      "1 nice ambianc\n",
      "1 would recommend save room\n",
      "0 guess mayb went night disgrac\n",
      "0 howev recent experi particular locat not good\n",
      "0 know not like restaur someth\n",
      "0 avoid establish\n",
      "0 think restaur suffer not tri hard enough\n",
      "1 tapa dish delici\n",
      "1 heart place\n",
      "0 salad bland vinegrett babi green heart palm\n",
      "0 two felt disgust\n",
      "1 good time\n",
      "1 believ place great stop huge belli hanker sushi\n",
      "1 gener portion great tast\n",
      "0 never go back place never ever recommend place anyon\n",
      "0 server went back forth sever time not even much help\n",
      "1 food delici\n",
      "0 hour serious\n",
      "0 consid theft\n",
      "0 eew locat need complet overhaul\n",
      "0 recent wit poor qualiti manag toward guest well\n",
      "0 wait wait wait\n",
      "1 also came back check us regularli excel servic\n",
      "1 server super nice check us mani time\n",
      "0 pizza tast old super chewi not good way\n",
      "0 swung give tri deepli disappoint\n",
      "1 servic good compani better\n",
      "1 staff also friendli effici\n",
      "1 servic fan quick serv nice folk\n",
      "0 boy sucker dri\n",
      "0 rate\n",
      "0 look authent thai food go els\n",
      "1 steak recommend\n",
      "0 pull car wait anoth minut acknowledg\n",
      "1 great food great servic clean friendli set\n",
      "1 assur back\n",
      "0 hate thing much cheap qualiti black oliv\n",
      "1 breakfast perpar great beauti present giant slice toast lightli dust powder sugar\n",
      "0 kid play area nasti\n",
      "1 great place fo take eat\n",
      "1 waitress friendli happi accomod vegan veggi option\n",
      "1 omg felt like never eaten thai food dish\n",
      "0 extrem crumbi pretti tasteless\n",
      "0 pale color instead nice char no flavor\n",
      "1 crouton also tast homemad extra plu\n",
      "0 got home see driest damn wing ever\n",
      "1 regular stop trip phoenix\n",
      "1 realli enjoy crema caf expand even told friend best breakfast\n",
      "0 not good money\n",
      "1 miss wish one philadelphia\n",
      "0 got sit fairli fast end wait minut place order anoth minut food arriv\n",
      "1 also best chees crisp town\n",
      "1 good valu great food great servic\n",
      "1 couldn ask satisfi meal\n",
      "1 food good\n",
      "1 awesom\n",
      "0 want leav\n",
      "1 made drive way north scottsdal not one bit disappoint\n",
      "0 not eat\n",
      "0 owner realli realli need quit soooooo cheap let wrap freak sandwich two paper not one\n",
      "0 check place coupl year ago not impress\n",
      "0 chicken got definit reheat ok wedg cold soggi\n",
      "0 sorri not get food anytim soon\n",
      "1 absolut must visit\n",
      "1 cow tongu cheek taco amaz\n",
      "0 friend not like bloodi mari\n",
      "0 despit hard rate busi actual rare give star\n",
      "1 realli want make experi good one\n",
      "0 not return\n",
      "0 chicken pho tast bland\n",
      "0 disappoint\n",
      "1 grill chicken tender yellow saffron season\n",
      "0 drive thru mean not want wait around half hour food somehow end go make us wait wait\n",
      "1 pretti awesom place\n",
      "1 ambienc perfect\n",
      "0 best luck rude non custom servic focus new manag\n",
      "0 grandmoth make roast chicken better one\n",
      "0 ask multipl time wine list time ignor went hostess got one\n",
      "1 staff alway super friendli help especi cool bring two small boy babi\n",
      "1 four star food guy blue shirt great vibe still let us eat\n",
      "1 roast beef sandwich tast realli good\n",
      "0 even drastic sick\n",
      "1 high qualiti chicken chicken caesar salad\n",
      "0 order burger rare came done\n",
      "1 promptli greet seat\n",
      "0 tri go lunch madhous\n",
      "1 proven dead wrong sushi bar not qualiti great servic fast food impecc\n",
      "0 wait hour seat not greatest mood\n",
      "1 good joint\n",
      "1 macaron insan good\n",
      "0 not eat\n",
      "1 waiter attent friendli inform\n",
      "0 mayb weren cold would somewhat edibl\n",
      "0 place lot promis fail deliv\n",
      "0 bad experi\n",
      "0 mistak\n",
      "0 food averag best\n",
      "1 great food\n",
      "0 won go back anytim soon\n",
      "0 disappoint order big bay plater\n",
      "1 great place relax awesom burger beer\n",
      "1 perfect sit famili meal get togeth friend\n",
      "0 not much flavor poorli construct\n",
      "1 patio seat comfort\n",
      "0 fri rice dri well\n",
      "1 hand favorit italian restaur\n",
      "1 scream legit book somethat also pretti rare vega\n",
      "1 not fun experi\n",
      "1 atmospher great love duo violinist play song request\n",
      "1 person love hummu pita baklava falafel baba ganoush amaz eggplant\n",
      "1 conveni sinc stay mgm\n",
      "1 owner super friendli staff courteou\n",
      "1 great\n",
      "1 eclect select\n",
      "1 sweet potato tot good onion ring perfect close\n",
      "1 staff attent\n",
      "1 chef gener time even came around twice take pictur\n",
      "1 owner use work nobu place realli similar half price\n",
      "0 googl mediocr imagin smashburg pop\n",
      "0 dont go\n",
      "1 promis won disappoint\n",
      "0 sushi lover avoid place mean\n",
      "1 great doubl cheeseburg\n",
      "1 awesom servic food\n",
      "1 fantast neighborhood gem\n",
      "1 wait go back\n",
      "0 plantain worst ever tast\n",
      "1 great place highli recommend\n",
      "0 servic slow not attent\n",
      "1 gave star give star\n",
      "0 staff spend time talk\n",
      "1 dessert panna cotta amaz\n",
      "1 good food great atmospher\n",
      "1 damn good steak\n",
      "0 total brunch fail\n",
      "1 price reason flavor spot sauc home made slaw not drench mayo\n",
      "1 decor nice piano music soundtrack pleasant\n",
      "1 steak amaz rge fillet relleno best seafood plate ever\n",
      "1 good food good servic\n",
      "1 absolut amaz\n",
      "0 probabl won back honest\n",
      "1 definit back\n",
      "1 sergeant pepper beef sandwich auju sauc excel sandwich well\n",
      "1 hawaiian breez mango magic pineappl delight smoothi tri far good\n",
      "0 went lunch servic slow\n",
      "0 much say place walk expect amaz quickli disappoint\n",
      "0 mortifi\n",
      "0 needless say never back\n",
      "0 anyway food definit not fill price pay expect\n",
      "0 chip came drip greas mostli not edibl\n",
      "0 wasn realli impress strip steak\n",
      "1 go sinc everi meal awesom\n",
      "1 server nice attent serv staff\n",
      "1 cashier friendli even brought food\n",
      "0 work hospit industri paradis valley refrain recommend cibo longer\n",
      "1 atmospher fun\n",
      "0 would not recommend other\n",
      "1 servic quick even go order like like\n",
      "0 mean realli get famou fish chip terribl\n",
      "1 said mouth belli still quit pleas\n",
      "0 not thing\n",
      "1 thumb\n",
      "0 read pleas don go\n",
      "1 love grill pizza remind legit italian pizza\n",
      "1 pro larg seat area nice bar area great simpl drink menu best brick oven pizza homemad dough\n",
      "1 realli nice atmospher\n",
      "0 tonight elk filet special suck\n",
      "1 one bite hook\n",
      "0 order old classic new dish go time sore disappoint everyth\n",
      "1 cute quaint simpl honest\n",
      "1 chicken delici season perfect fri outsid moist chicken insid\n",
      "1 food great alway compliment chef\n",
      "1 special thank dylan recommend order yummi tummi\n",
      "1 awesom select beer\n",
      "1 great food awesom servic\n",
      "1 one nice thing ad gratuiti bill sinc parti larger didn expect tip\n",
      "0 fli appl juic fli\n",
      "1 han nan chicken also tasti\n",
      "1 servic thought good\n",
      "0 food bare lukewarm must sit wait server bring us\n",
      "0 ryan bar definit one edinburgh establish won revisit\n",
      "1 nicest chines restaur\n",
      "1 overal like food servic\n",
      "1 also serv indian naan bread hummu spici pine nut sauc world\n",
      "0 probabl never come back wouldn recommend\n",
      "0 friend pasta also bad bare touch\n",
      "1 tri airport experi tasti food speedi friendli servic\n",
      "1 love decor chines calligraphi wall paper\n",
      "1 never anyth complain\n",
      "1 restaur clean famili restaur feel\n",
      "0 way fri\n",
      "0 not sure long stood long enough begin feel awkwardli place\n",
      "0 open sandwich impress not good way\n",
      "0 not back\n",
      "1 warm feel servic felt like guest special treat\n",
      "1 extens menu provid lot option breakfast\n",
      "1 alway order vegetarian menu dinner wide array option choos\n",
      "0 watch price inflat portion get smaller manag attitud grow rapidli\n",
      "1 wonder lil tapa ambienc made feel warm fuzzi insid\n",
      "1 got enjoy seafood salad fabul vinegrett\n",
      "1 wonton thin not thick chewi almost melt mouth\n",
      "1 level spici perfect spice didn whelm soup\n",
      "1 sat right time server get go fantast\n",
      "0 main thing didn enjoy crowd older crowd around mid\n",
      "1 side town definit spot hit\n",
      "0 wait minut get drink longer get arepa\n",
      "1 great place eat\n",
      "1 jalapeno bacon soooo good\n",
      "0 servic poor that nice\n",
      "1 food good servic good price good\n",
      "0 place not clean food oh stale\n",
      "0 chicken dish ok beef like shoe leather\n",
      "0 servic beyond bad\n",
      "1 happi\n",
      "0 tast like dirt\n",
      "1 one place phoenix would defin go back\n",
      "1 block amaz\n",
      "1 close hous low key non fanci afford price good food\n",
      "1 hot sour egg flower soup absolut star\n",
      "0 sashimi poor qualiti soggi tasteless\n",
      "1 great time famili dinner sunday night\n",
      "0 food not tasti not say real tradit hunan style\n",
      "0 bother slow servic\n",
      "1 flair bartend absolut amaz\n",
      "0 frozen margarita way sugari tast\n",
      "1 good order twice\n",
      "0 nutshel restaraunt smell like combin dirti fish market sewer\n",
      "0 girlfriend veal bad\n",
      "0 unfortun not good\n",
      "1 pretti satifi experi\n",
      "1 join club get awesom offer via email\n",
      "1 perfect someon like beer ice cold case even colder\n",
      "0 bland flavorless good way describ bare tepid meat\n",
      "0 chain no fan beat place easili\n",
      "1 nacho must\n",
      "0 not come back\n",
      "1 don mani word say place everyth pretti well\n",
      "1 staff super nice quick even crazi crowd downtown juri lawyer court staff\n",
      "1 great atmospher friendli fast servic\n",
      "1 receiv pita huge lot meat thumb\n",
      "0 food arriv meh\n",
      "0 pay hot dog fri look like came kid meal wienerschnitzel not idea good meal\n",
      "1 classic main lobster roll fantast\n",
      "0 brother law work mall ate day guess sick night\n",
      "1 good go review place twice herea tribut place tribut event held last night\n",
      "1 chip salsa realli good salsa fresh\n",
      "1 place great\n",
      "0 mediocr food\n",
      "1 get insid impress place\n",
      "0 super pissd\n",
      "1 servic super friendli\n",
      "0 sad littl veget overcook\n",
      "1 place nice surpris\n",
      "1 golden crispi delici\n",
      "0 high hope place sinc burger cook charcoal grill unfortun tast fell flat way flat\n",
      "1 could eat bruschetta day devin\n",
      "0 not singl employe came see ok even need water refil final serv us food\n",
      "1 lastli mozzarella stick best thing order\n",
      "1 first time ever came amaz experi still tell peopl awesom duck\n",
      "0 server neglig need made us feel unwelcom would not suggest place\n",
      "0 servic terribl though\n",
      "0 place overpr not consist boba realli overpr\n",
      "0 pack\n",
      "1 love place\n",
      "1 say dessert yummi\n",
      "0 food terribl\n",
      "1 season fruit fresh white peach pure\n",
      "0 kept get wors wors offici done\n",
      "0 place honestli blown\n",
      "0 definit would not eat\n",
      "0 not wast money\n",
      "1 love put food nice plastic contain oppos cram littl paper takeout box\n",
      "1 cr pe delic thin moist\n",
      "0 aw servic\n",
      "0 won ever go\n",
      "0 food qualiti horribl\n",
      "0 price think place would much rather gone\n",
      "0 servic fair best\n",
      "0 love sushi found kabuki price hip servic\n",
      "0 favor stay away dish\n",
      "0 poor servic\n",
      "0 no one tabl thought food averag worth wait\n",
      "1 best servic food ever maria server good friendli made day\n",
      "1 excel\n",
      "0 paid bill not tip felt server terribl job\n",
      "1 lunch great experi\n",
      "0 never bland food surpris consid articl read focus much spice flavor\n",
      "0 food way overpr portion fuck small\n",
      "1 recent tri caballero back everi week sinc\n",
      "0 buck head realli expect better food\n",
      "1 food came good pace\n",
      "1 ate twice last visit especi enjoy salmon salad\n",
      "0 won back\n",
      "0 could not believ dirti oyster\n",
      "0 place deserv no star\n",
      "0 would not recommend place\n",
      "1 fact go round star awesom\n",
      "0 disbelief dish qualifi worst version food ever tast\n",
      "0 bad day not low toler rude custom servic peopl job nice polit wash dish otherwis\n",
      "1 potato great biscuit\n",
      "0 probabl would not go\n",
      "1 flavor perfect amount heat\n",
      "1 price reason servic great\n",
      "0 wife hate meal coconut shrimp friend realli not enjoy meal either\n",
      "0 fella got huevo ranchero didn look appeal\n",
      "1 went happi hour great list wine\n",
      "1 may say buffet pricey think get pay place get quit lot\n",
      "0 probabl won come back\n",
      "0 worst food servic\n",
      "1 place pretti good nice littl vibe restaur\n",
      "1 talk great custom servic cours back\n",
      "0 hot dish not hot cold dish close room temp watch staff prepar food bare hand no glove everyth deep fri oil\n",
      "1 love fri bean\n",
      "1 alway pleasur deal\n",
      "1 plethora salad sandwich everyth tri get seal approv\n",
      "1 place awesom want someth light healthi summer\n",
      "1 sushi strip place go\n",
      "1 servic great even manag came help tabl\n",
      "0 feel dine room colleg cook cours high class dine servic slow best\n",
      "0 start review two star edit give one\n",
      "0 worst sushi ever eat besid costco\n",
      "1 excel restaur highlight great servic uniqu menu beauti set\n",
      "1 boyfriend sat bar complet delight experi\n",
      "0 weird vibe owner\n",
      "0 hardli meat\n",
      "0 better bagel groceri store\n",
      "1 go place gyro\n",
      "1 love owner chef one authent japanes cool dude\n",
      "0 burger aren good pizza use amaz doughi flavorless\n",
      "0 found six inch long piec wire salsa\n"
     ]
    },
    {
     "name": "stdout",
     "output_type": "stream",
     "text": [
      "0 servic terribl food mediocr\n",
      "1 defin enjoy\n",
      "0 order albondiga soup warm tast like tomato soup frozen meatbal\n",
      "0 three differ occas ask well done medium well three time got bloodiest piec meat plate\n",
      "0 two bite refus eat anymor\n",
      "0 servic extrem slow\n",
      "0 minut wait got tabl\n",
      "1 serious killer hot chai latt\n",
      "0 no allergi warn menu waitress absolut no clue meal not contain peanut\n",
      "1 boyfriend tri mediterranean chicken salad fell love\n",
      "1 rotat beer tap also highlight place\n",
      "0 price bit concern mellow mushroom\n",
      "0 worst thai ever\n",
      "1 stay vega must get breakfast least\n",
      "1 want first say server great perfect servic\n",
      "1 pizza select good\n",
      "1 strawberri tea good\n",
      "0 highli unprofession rude loyal patron\n",
      "1 overal great experi\n",
      "0 spend money elsewher\n",
      "1 regular toast bread equal satisfi occasion pat butter mmmm\n",
      "0 buffet bellagio far anticip\n",
      "0 drink weak peopl\n",
      "0 order not correct\n",
      "0 also feel like chip bought not made hous\n",
      "0 disappoint dinner went elsewher dessert\n",
      "1 chip sal amaz\n",
      "0 won return\n",
      "1 new fav vega buffet spot\n",
      "0 serious cannot believ owner mani unexperienc employe run around like chicken head cut\n",
      "0 sad\n",
      "0 felt insult disrespect could talk judg anoth human like\n",
      "0 call steakhous properli cook steak don understand\n",
      "0 not impress concept food\n",
      "0 thing wasn crazi guacamol don like pur ed\n",
      "0 realli noth postino hope experi better\n",
      "0 got food poison buffet\n",
      "0 brought fresh batch fri think yay someth warm no\n",
      "0 hilari yummi christma eve dinner rememb biggest fail entir trip us\n",
      "0 needless say won go back anytim soon\n",
      "0 place disgust\n",
      "1 everi time eat see care teamwork profession degre\n",
      "0 ri style calamari joke\n",
      "0 howev much garlic fondu bare edibl\n",
      "0 could bare stomach meal didn complain busi lunch\n",
      "0 bad lost heart finish\n",
      "0 also took forev bring us check ask\n",
      "0 aren one make scene restaur don get definit lost love one\n",
      "0 disappoint experi\n",
      "0 food par denni say not good\n",
      "0 want wait mediocr food downright terribl servic place\n",
      "0 waaaaaayyyyyyyyyi rate say\n",
      "0 won go back\n",
      "0 place fairli clean food simpli wasn worth\n",
      "0 place lack style\n",
      "0 sangria half glass wine full ridicul\n",
      "0 don bother come\n",
      "0 meat pretti dri slice brisket pull pork\n",
      "0 build seem pretti neat bathroom pretti trippi wouldn eat\n",
      "0 equal aw\n",
      "0 probabl not hurri go back\n",
      "0 slow seat even reserv\n",
      "0 not good stretch imagin\n",
      "0 cashew cream sauc bland veget undercook\n",
      "0 chipolt ranch dip saus tasteless seem thin water no heat\n",
      "0 bit sweet not realli spici enough lack flavor\n",
      "0 disappoint\n",
      "0 place horribl way overpr\n",
      "0 mayb vegetarian fare twice thought averag best\n",
      "0 wasn busi know\n",
      "0 tabl outsid also dirti lot time worker not alway friendli help menu\n",
      "0 ambianc not feel like buffet set douchey indoor garden tea biscuit\n",
      "0 con spotti servic\n",
      "0 fri not hot neither burger\n",
      "0 came back cold\n",
      "0 food came disappoint ensu\n",
      "0 real disappoint waiter\n",
      "0 husband said rude not even apolog bad food anyth\n",
      "0 reason eat would fill night bing drink get carb stomach\n",
      "0 insult profound deuchebaggeri go outsid smoke break serv solidifi\n",
      "0 someon order two taco don think may part custom servic ask combo ala cart\n",
      "0 quit disappoint although blame need place door\n",
      "0 rave review couldn wait eat disappoint\n",
      "0 del taco pretti nasti avoid possibl\n",
      "0 not hard make decent hamburg\n",
      "0 don like\n",
      "0 hell no go back\n",
      "0 gotten much better servic pizza place next door servic receiv restaur\n",
      "0 don know big deal place won back ya\n",
      "0 immedi said want talk manag not want talk guy shot firebal behind bar\n",
      "0 ambianc isn much better\n",
      "0 unfortun set us disapppoint entre\n",
      "0 food wasn good\n",
      "0 server suck wait correct server heimer suck\n",
      "0 happen next pretti put\n",
      "0 bad caus know famili own realli want like place\n",
      "0 overpr get\n",
      "0 vomit bathroom mid lunch\n",
      "0 kept look time soon becom minut yet still no food\n",
      "0 place eat no circumst would ever return top list\n",
      "0 start tuna sashimi brownish color obvious wasn fresh\n",
      "0 food averag\n",
      "0 sure beat nacho movi would expect littl bit come restaur\n",
      "0 ha long bay bit flop\n",
      "0 problem charg sandwich no bigger subway sub offer better amount veget\n",
      "0 shrimp unwrap live mile brushfir liter ice cold\n",
      "0 lack flavor seem undercook dri\n",
      "0 realli impress place hasn close\n",
      "0 would avoid place stay mirag\n",
      "0 refri bean came meal dri crusti food bland\n",
      "0 spend money time place els\n",
      "0 ladi tabl next us found live green caterpillar salad\n",
      "0 present food aw\n",
      "0 tell disappoint\n",
      "0 think food flavor textur lack\n",
      "0 appetit instantli gone\n",
      "0 overal not impress would not go back\n",
      "0 whole experi underwhelm think go ninja sushi next time\n",
      "0 hadn wast enough life pour salt wound draw time took bring check\n",
      "{('wow', 1): 3, ('love', 1): 30, ('place', 1): 60, ('crust', 0): 2, ('not', 0): 98, ('good', 0): 22, ('tasti', 0): 3, ('textur', 0): 2, ('nasti', 0): 3, ('stop', 1): 5, ('late', 1): 1, ('may', 1): 3, ('bank', 1): 1, ('holiday', 1): 1, ('rick', 1): 1, ('steve', 1): 1, ('recommend', 1): 11, ('select', 1): 10, ('menu', 1): 13, ('great', 1): 70, ('price', 1): 16, ('get', 0): 18, ('angri', 0): 1, ('want', 0): 10, ('damn', 0): 3, ('pho', 0): 3, ('honeslti', 0): 1, ('didn', 0): 9, ('tast', 0): 12, ('fresh', 0): 4, ('potato', 0): 3, ('like', 0): 31, ('rubber', 0): 1, ('could', 0): 8, ('tell', 0): 3, ('made', 0): 6, ('ahead', 0): 1, ('time', 0): 29, ('kept', 0): 4, ('warmer', 0): 1, ('fri', 1): 7, ('touch', 1): 2, ('servic', 1): 47, ('prompt', 1): 1, ('would', 0): 22, ('go', 0): 39, ('back', 0): 38, ('cashier', 0): 1, ('no', 0): 23, ('care', 0): 1, ('ever', 0): 19, ('say', 0): 10, ('still', 0): 5, ('end', 0): 3, ('wayyy', 0): 1, ('overpr', 0): 7, ('tri', 1): 10, ('cape', 1): 1, ('cod', 1): 1, ('ravoli', 1): 1, ('chicken', 1): 10, ('cranberri', 1): 1, ('mmmm', 1): 2, ('disgust', 0): 4, ('pretti', 0): 9, ('sure', 0): 6, ('human', 0): 2, ('hair', 0): 2, ('shock', 0): 1, ('sign', 0): 2, ('indic', 0): 1, ('cash', 0): 1, ('highli', 1): 3, ('waitress', 0): 3, ('littl', 0): 5, ('slow', 0): 11, ('servic', 0): 40, ('place', 0): 52, ('worth', 0): 5, ('let', 0): 3, ('alon', 0): 1, ('vega', 0): 7, ('burritto', 0): 1, ('blah', 0): 1, ('food', 1): 60, ('amaz', 1): 22, ('also', 1): 18, ('cute', 1): 2, ('could', 1): 8, ('care', 1): 3, ('less', 1): 1, ('interior', 1): 1, ('beauti', 1): 5, ('perform', 1): 1, ('right', 1): 6, ('red', 1): 1, ('velvet', 1): 1, ('cake', 1): 1, ('ohhh', 1): 1, ('stuff', 1): 2, ('good', 1): 73, ('never', 0): 22, ('brought', 0): 2, ('salad', 0): 8, ('ask', 0): 8, ('hole', 1): 1, ('wall', 1): 3, ('mexican', 1): 2, ('street', 1): 1, ('taco', 1): 4, ('friendli', 1): 24, ('staff', 1): 15, ('took', 0): 8, ('hour', 0): 7, ('food', 0): 67, ('tabl', 0): 10, ('restaur', 0): 11, ('luke', 0): 1, ('warm', 0): 4, ('sever', 0): 2, ('run', 0): 3, ('around', 0): 6, ('total', 0): 6, ('overwhelm', 0): 1, ('worst', 0): 14, ('salmon', 0): 1, ('sashimi', 0): 3, ('combo', 1): 1, ('like', 1): 20, ('burger', 1): 6, ('beer', 1): 8, ('decent', 1): 1, ('deal', 1): 5, ('final', 0): 3, ('blow', 0): 2, ('found', 1): 3, ('accid', 1): 1, ('not', 1): 18, ('happier', 1): 1, ('seem', 0): 4, ('quick', 0): 1, ('grab', 0): 1, ('bite', 0): 3, ('familiar', 0): 1, ('pub', 0): 1, ('favor', 0): 2, ('look', 0): 8, ('elsewher', 0): 4, ('overal', 1): 4, ('lot', 1): 5, ('redeem', 1): 1, ('qualiti', 1): 6, ('restaur', 1): 17, ('inexpens', 1): 2, ('ampl', 1): 1, ('portion', 1): 5, ('poor', 0): 6, ('waiter', 0): 5, ('feel', 0): 7, ('stupid', 0): 1, ('everi', 0): 1, ('came', 0): 12, ('first', 1): 13, ('visit', 1): 5, ('hiro', 1): 1, ('delight', 1): 5, ('suck', 0): 9, ('shrimp', 1): 2, ('tender', 1): 6, ('moist', 1): 3, ('deal', 0): 4, ('enough', 0): 7, ('drag', 0): 1, ('establish', 0): 3, ('hard', 0): 6, ('judg', 0): 3, ('whether', 0): 1, ('side', 0): 3, ('gross', 0): 4, ('melt', 0): 1, ('styrofoam', 0): 1, ('eat', 0): 19, ('fear', 0): 1, ('sick', 0): 5, ('posit', 1): 1, ('note', 1): 1, ('server', 1): 10, ('attent', 1): 6, ('provid', 1): 3, ('frozen', 0): 3, ('puck', 0): 1, ('peopl', 0): 7, ('behind', 0): 2, ('regist', 0): 1, ('thing', 1): 7, ('prime', 1): 1, ('rib', 1): 1, ('dessert', 1): 6, ('section', 1): 1, ('bad', 0): 18, ('gener', 0): 1, ('beef', 1): 3, ('cook', 1): 6, ('want', 1): 7, ('sandwich', 1): 7, ('go', 1): 23, ('firehous', 1): 1, ('side', 1): 7, ('greek', 1): 3, ('salad', 1): 9, ('dress', 1): 2, ('tasti', 1): 8, ('pita', 1): 3, ('hummu', 1): 3, ('refresh', 1): 1, ('order', 1): 12, ('duck', 1): 3, ('rare', 1): 2, ('pink', 1): 1, ('insid', 1): 6, ('nice', 1): 22, ('char', 1): 1, ('outsid', 1): 2, ('came', 1): 8, ('run', 1): 1, ('us', 1): 7, ('realiz', 1): 1, ('husband', 1): 1, ('left', 1): 3, ('sunglass', 1): 1, ('tabl', 1): 4, ('chow', 1): 1, ('mein', 1): 1, ('horribl', 0): 6, ('attitud', 0): 2, ('toward', 0): 2, ('custom', 0): 6, ('talk', 0): 5, ('one', 0): 17, ('don', 0): 23, ('enjoy', 0): 4, ('huge', 1): 4, ('wonder', 1): 7, ('imagin', 1): 1, ('heart', 0): 4, ('attack', 0): 2, ('grill', 0): 2, ('downtown', 0): 1, ('absolut', 0): 3, ('flat', 0): 3, ('line', 0): 1, ('excus', 0): 2, ('much', 0): 15, ('seafood', 0): 2, ('string', 0): 1, ('pasta', 0): 2, ('bottom', 0): 1, ('amount', 1): 2, ('sauc', 1): 6, ('power', 1): 1, ('scallop', 1): 1, ('perfectli', 1): 3, ('rip', 0): 2, ('banana', 0): 1, ('petrifi', 0): 1, ('tasteless', 0): 5, ('least', 0): 3, ('think', 0): 14, ('refil', 0): 2, ('water', 0): 4, ('struggl', 0): 1, ('wave', 0): 1, ('minut', 0): 19, ('receiv', 1): 2, ('star', 1): 8, ('appet', 1): 2, ('cocktail', 1): 2, ('handmad', 1): 1, ('delici', 1): 24, ('definit', 1): 10, ('back', 1): 23, ('glad', 1): 2, ('give', 1): 3, ('militari', 1): 1, ('discount', 1): 1, ('alway', 1): 12, ('time', 1): 26, ('do', 1): 1, ('gringo', 1): 1, ('updat', 1): 1, ('went', 1): 7, ('second', 1): 3, ('still', 1): 6, ('got', 0): 15, ('appar', 0): 1, ('heard', 0): 1, ('salt', 0): 3, ('batter', 0): 2, ('fish', 0): 3, ('chewi', 0): 2, ('way', 1): 6, ('finish', 1): 1, ('includ', 1): 2, ('tast', 1): 10, ('drink', 1): 5, ('jeff', 1): 1, ('beyond', 1): 1, ('expect', 1): 4, ('realli', 1): 22, ('rice', 1): 1, ('meh', 0): 2, ('min', 0): 3, ('milkshak', 0): 1, ('noth', 0): 6, ('chocol', 0): 1, ('milk', 0): 1, ('guess', 0): 3, ('known', 0): 2, ('insid', 0): 1, ('excalibur', 0): 1, ('use', 0): 3, ('common', 0): 1, ('sens', 0): 1, ('scallop', 0): 1, ('dish', 0): 8, ('quit', 0): 3, ('appal', 0): 1, ('valu', 0): 1, ('well', 0): 7, ('sweet', 1): 4, ('potato', 1): 6, ('season', 1): 4, ('well', 1): 8, ('today', 1): 3, ('lunch', 1): 4, ('buffet', 1): 8, ('pretti', 1): 11, ('cheat', 0): 1, ('wast', 0): 8, ('opportun', 0): 1, ('rice', 0): 3, ('compani', 0): 1, ('come', 0): 11, ('experienc', 0): 1, ('underwhelm', 0): 2, ('relationship', 0): 1, ('parti', 0): 1, ('wait', 0): 26, ('person', 0): 1, ('break', 0): 3, ('walk', 0): 2, ('smell', 0): 2, ('old', 0): 4, ('greas', 0): 2, ('trap', 0): 1, ('other', 0): 2, ('turkey', 0): 1, ('roast', 0): 2, ('beef', 0): 2, ('bland', 0): 11, ('pan', 0): 1, ('cake', 0): 1, ('everyon', 0): 2, ('rave', 0): 2, ('sugari', 0): 2, ('disast', 0): 1, ('tailor', 0): 1, ('palat', 0): 1, ('six', 0): 2, ('year', 0): 2, ('pho', 1): 3, ('spring', 1): 1, ('roll', 1): 3, ('oh', 1): 2, ('yummi', 1): 3, ('meat', 0): 7, ('ratio', 0): 1, ('chicken', 0): 8, ('tender', 0): 1, ('unsatisfi', 0): 1, ('say', 1): 8, ('omelet', 1): 1, ('die', 1): 2, ('everyth', 1): 8, ('fresh', 1): 10, ('summari', 0): 1, ('larg', 0): 2, ('disappoint', 0): 23, ('dine', 0): 5, ('experi', 0): 8, ('sexi', 1): 1, ('parti', 1): 3, ('mouth', 1): 5, ('outrag', 1): 1, ('flirt', 1): 1, ('hottest', 1): 1, ('person', 1): 3, ('rock', 0): 1, ('casino', 0): 1, ('step', 0): 3, ('forward', 0): 1, ('best', 1): 22, ('breakfast', 1): 8, ('bye', 0): 2, ('tip', 0): 2, ('ladi', 0): 2, ('arriv', 1): 1, ('quickli', 1): 2, ('cafe', 1): 2, ('serv', 1): 6, ('fantast', 1): 12, ('wife', 1): 1, ('roast', 1): 2, ('garlic', 1): 1, ('bone', 1): 1, ('marrow', 1): 2, ('ad', 1): 2, ('extra', 1): 2, ('meal', 1): 6, ('anoth', 1): 1, ('waiter', 1): 2, ('help', 1): 3, ('kept', 1): 1, ('bloddi', 1): 1, ('mari', 1): 1, ('come', 1): 10, ('town', 1): 7, ('cannot', 1): 1, ('beat', 1): 2, ('mussel', 1): 1, ('wine', 1): 3, ('reduct', 1): 1, ('dish', 1): 9, ('one', 1): 10, ('better', 1): 5, ('tigerlilli', 1): 1, ('afternoon', 1): 1, ('bartend', 1): 3, ('got', 1): 3, ('ambienc', 1): 3, ('music', 1): 2, ('play', 1): 2, ('next', 1): 5, ('trip', 1): 3, ('sooooo', 1): 1, ('real', 0): 3, ('sushi', 0): 7, ('lover', 0): 2, ('honest', 0): 2, ('yama', 0): 1, ('pass', 0): 2, ('us', 0): 12, ('order', 0): 16, ('arriv', 0): 4, ('wasn', 0): 13, ('busi', 0): 8, ('thai', 1): 3, ('worth', 1): 5, ('spici', 1): 6, ('check', 1): 6, ('better', 0): 11, ('atmospher', 0): 1, ('kind', 0): 2, ('mess', 0): 1, ('steak', 0): 4, ('although', 0): 3, ('sound', 0): 1, ('actual', 0): 2, ('bit', 0): 7, ('know', 0): 8, ('manag', 0): 9, ('serv', 0): 6, ('blandest', 0): 1, ('eaten', 0): 2, ('prepar', 0): 2, ('indian', 0): 1, ('cuisin', 0): 1, ('boot', 0): 1, ('worri', 0): 1, ('fine', 1): 3, ('waitress', 1): 6, ('guy', 1): 2, ('steak', 1): 14, ('son', 1): 1, ('worst', 1): 1, ('said', 1): 2, ('ever', 1): 9, ('eaten', 1): 3, ('thought', 1): 3, ('ventur', 1): 2, ('away', 1): 3, ('get', 1): 10, ('sushi', 1): 6, ('hit', 1): 5, ('spot', 1): 8, ('night', 1): 7, ('host', 0): 1, ('staff', 0): 4, ('lack', 0): 6, ('word', 0): 2, ('bitch', 0): 1, ('number', 0): 1, ('reason', 0): 2, ('review', 0): 6, ('leav', 0): 4, ('phenomen', 1): 1, ('ambianc', 1): 5, ('wouldn', 0): 3, ('return', 0): 5, ('strip', 1): 2, ('pork', 1): 3, ('belli', 1): 3, ('return', 1): 2, ('vega', 1): 15, ('way', 0): 10, ('mediocr', 0): 6, ('penn', 1): 1, ('vodka', 1): 1, ('excel', 1): 10, ('massiv', 1): 1, ('meatloaf', 1): 1, ('crispi', 1): 2, ('wrap', 1): 2, ('delish', 1): 3, ('tuna', 1): 1, ('melt', 1): 3, ('rude', 0): 9, ('nyc', 1): 1, ('bagel', 1): 1, ('cream', 1): 3, ('chees', 1): 2, ('real', 1): 2, ('lox', 1): 1, ('caper', 1): 1, ('even', 1): 11, ('subway', 1): 2, ('fact', 1): 3, ('everi', 1): 8, ('meet', 1): 1, ('serious', 1): 4, ('solid', 1): 1, ('bar', 1): 6, ('extrem', 0): 4, ('realli', 0): 14, ('mani', 0): 6, ('love', 0): 3, ('weekend', 0): 1, ('never', 1): 4, ('empti', 1): 1, ('made', 1): 11, ('suggest', 1): 1, ('help', 0): 4, ('friendli', 0): 3, ('rare', 0): 4, ('check', 0): 4, ('husband', 0): 3, ('ate', 0): 2, ('lunch', 0): 6, ('red', 0): 1, ('curri', 0): 1, ('bamboo', 0): 1, ('shoot', 0): 1, ('blanket', 1): 1, ('moz', 1): 1, ('top', 1): 2, ('feel', 1): 8, ('done', 1): 1, ('cover', 1): 2, ('subpar', 1): 1, ('bathroom', 1): 2, ('clean', 1): 7, ('decor', 1): 5, ('menu', 0): 3, ('alway', 0): 3, ('chang', 0): 1, ('qualiti', 0): 8, ('consid', 0): 3, ('server', 0): 8, ('pace', 0): 1, ('give', 0): 7, ('thumb', 0): 1, ('watch', 0): 3, ('pay', 0): 4, ('lot', 0): 4, ('attent', 0): 2, ('ignor', 0): 2, ('fianc', 1): 1, ('middl', 1): 1, ('day', 1): 5, ('greet', 1): 2, ('seat', 1): 5, ('mandalay', 1): 1, ('bay', 1): 2, ('forti', 0): 1, ('five', 0): 1, ('vain', 0): 1, ('crostini', 0): 1, ('stale', 0): 3, ('highlight', 1): 3, ('nigiri', 1): 1, ('joint', 1): 2, ('differ', 1): 2, ('cut', 1): 1, ('piec', 1): 1, ('flavor', 1): 8, ('voodoo', 1): 1, ('pasta', 1): 4, ('sinc', 1): 5, ('gluten', 1): 1, ('free', 1): 1, ('sever', 1): 2, ('year', 1): 3, ('ago', 1): 2, ('unfortun', 0): 4, ('must', 0): 3, ('hit', 0): 1, ('bakeri', 0): 1, ('leftov', 0): 1, ('day', 0): 4, ('everyth', 0): 4, ('today', 0): 1, ('sinc', 0): 3, ('reloc', 0): 1, ('impress', 0): 8, ('immedi', 1): 1, ('divers', 1): 1, ('reason', 1): 7, ('avoid', 0): 6, ('cost', 0): 1, ('full', 1): 3, ('wait', 1): 3, ('hand', 1): 4, ('eat', 1): 8, ('phoenix', 1): 3, ('metro', 1): 1, ('area', 1): 5, ('treat', 0): 2, ('bacon', 1): 5, ('hella', 1): 1, ('salti', 1): 1, ('also', 0): 9, ('spinach', 0): 1, ('avocado', 0): 1, ('ingredi', 0): 1, ('sad', 0): 4, ('dress', 0): 2, ('liter', 0): 3, ('zero', 0): 5, ('dine', 1): 5, ('use', 1): 2, ('ladi', 1): 2, ('no', 1): 2, ('list', 1): 2, ('lordi', 1): 1, ('khao', 1): 1, ('soi', 1): 1, ('miss', 1): 2, ('curri', 1): 1, ('lover', 1): 1, ('terrif', 1): 1, ('thrill', 1): 1, ('accommod', 1): 1, ('vegetarian', 1): 2, ('daughter', 1): 1, ('perhap', 0): 1, ('caught', 0): 1, ('night', 0): 5, ('inspir', 0): 1, ('desir', 0): 1, ('atmospher', 1): 10, ('modern', 1): 1, ('hip', 1): 1, ('maintain', 1): 1, ('cozi', 1): 1, ('weekli', 1): 1, ('haunt', 1): 1, ('sat', 0): 2, ('take', 0): 6, ('burger', 0): 10, ('flavor', 0): 10, ('overcook', 0): 2, ('charcoal', 0): 2, ('decid', 0): 1, ('send', 0): 1, ('verg', 0): 1, ('probabl', 0): 10, ('dirt', 0): 2, ('someth', 1): 2, ('healthi', 1): 3, ('lack', 1): 1, ('quantiti', 1): 1, ('lemon', 1): 1, ('raspberri', 1): 1, ('ice', 1): 5, ('incred', 1): 5, ('expect', 0): 5, ('imagin', 0): 3, ('interest', 1): 3, ('crepe', 1): 1, ('station', 1): 1, ('hot', 1): 4, ('bread', 1): 5, ('butter', 1): 3, ('home', 1): 2, ('chip', 1): 3, ('bit', 1): 2, ('origin', 1): 1, ('watch', 1): 2, ('prepar', 1): 2, ('egg', 1): 3, ('gyro', 0): 2, ('miss', 0): 1, ('wing', 1): 2, ('quit', 1): 6, ('satisfi', 1): 3, ('joey', 0): 1, ('vote', 0): 1, ('best', 0): 8, ('hot', 0): 5, ('dog', 0): 2, ('valley', 0): 2, ('reader', 0): 1, ('phoenix', 0): 1, ('magazin', 0): 1, ('bowl', 1): 2, ('live', 0): 5, ('music', 0): 1, ('friday', 0): 1, ('insult', 0): 4, ('felt', 0): 6, ('disrespect', 0): 2, ('drive', 1): 3, ('heard', 1): 1, ('exceed', 1): 1, ('hope', 1): 3, ('dream', 1): 1, ('serivc', 1): 1, ('beer', 0): 1, ('brunch', 1): 2, ('invit', 1): 1, ('first', 0): 4, ('last', 0): 3, ('foot', 0): 1, ('mix', 1): 1, ('mushroom', 1): 1, ('yukon', 1): 1, ('gold', 1): 1, ('pure', 1): 2, ('white', 1): 3, ('corn', 1): 1, ('beateou', 1): 1, ('bug', 0): 2, ('show', 0): 2, ('given', 0): 2, ('wall', 0): 1, ('climb', 0): 1, ('kitchen', 0): 1, ('realiz', 0): 1, ('soon', 0): 7, ('friend', 1): 4, ('salmon', 1): 3, ('tartar', 1): 2, ('won', 0): 15, ('extrem', 1): 1, ('though', 1): 3, ('soggi', 0): 3, ('jamaican', 1): 1, ('mojito', 1): 1, ('small', 0): 3, ('price', 0): 6, ('rich', 1): 1, ('accordingli', 1): 1, ('shower', 0): 2, ('area', 0): 2, ('outsid', 0): 3, ('rins', 0): 1, ('full', 0): 2, ('unless', 0): 3, ('mind', 0): 2, ('nude', 0): 1, ('see', 0): 4, ('lobster', 0): 2, ('bisqu', 0): 2, ('bussel', 0): 1, ('sprout', 0): 1, ('risotto', 0): 1, ('filet', 0): 2, ('need', 0): 6, ('pepper', 0): 1, ('cours', 0): 2, ('none', 0): 3, ('hope', 0): 3, ('bode', 0): 1, ('someon', 0): 3, ('cook', 0): 4, ('either', 0): 6, ('cold', 0): 8, ('date', 1): 2, ('unbeliev', 1): 2, ('bargain', 1): 1, ('folk', 1): 3, ('otto', 1): 1, ('make', 1): 4, ('welcom', 1): 1, ('special', 1): 5, ('main', 0): 2, ('uninspir', 0): 1, ('experi', 1): 12, ('must', 1): 4, ('whenev', 1): 1, ('isn', 0): 2, ('world', 0): 1, ('annoy', 0): 1, ('drunk', 0): 1, ('fun', 1): 4, ('chef', 1): 5, ('doubl', 0): 1, ('cheeseburg', 0): 1, ('singl', 0): 2, ('patti', 0): 1, ('fall', 0): 1, ('apart', 0): 1, ('pictur', 0): 1, ('upload', 0): 1, ('yeah', 0): 1, ('coupl', 1): 3, ('sport', 1): 1, ('event', 1): 2, ('tv', 1): 1, ('possibl', 0): 3, ('star', 0): 10, ('descript', 0): 1, ('said', 0): 6, ('yum', 0): 2, ('sauc', 0): 5, ('anoth', 0): 9, ('eel', 0): 1, ('yet', 0): 2, ('spici', 0): 2, ('mayo', 0): 1, ('roll', 0): 2, ('would', 1): 7, ('hardest', 1): 1, ('decis', 1): 1, ('honestli', 1): 1, ('suppos', 1): 1, ('eye', 0): 1, ('may', 0): 2, ('stay', 0): 4, ('tri', 0): 7, ('everyon', 1): 2, ('custom', 1): 3, ('money', 0): 6, ('flavour', 1): 1, ('almost', 0): 1, ('empti', 0): 2, ('build', 0): 2, ('freez', 0): 1, ('couldn', 0): 2, ('drink', 0): 4, ('close', 0): 3, ('point', 0): 2, ('much', 1): 3, ('ayc', 1): 1, ('light', 1): 2, ('dark', 1): 2, ('enough', 1): 5, ('set', 1): 3, ('mood', 1): 1, ('base', 0): 1, ('sub', 0): 2, ('par', 0): 3, ('receiv', 0): 2, ('effort', 0): 1, ('gratitud', 0): 1, ('owner', 1): 5, ('peopl', 1): 2, ('privileg', 0): 1, ('work', 0): 3, ('creami', 1): 2, ('overal', 0): 4, ('parent', 0): 1, ('similar', 0): 1, ('complaint', 0): 1, ('silent', 0): 1, ('pizza', 1): 12, ('peanut', 1): 1, ('fast', 1): 4, ('godfath', 0): 1, ('know', 1): 3, ('tough', 0): 1, ('short', 0): 1, ('stick', 1): 2, ('around', 1): 2, ('bar', 0): 3, ('recal', 0): 1, ('charg', 0): 2, ('tap', 0): 1, ('exquisit', 1): 1, ('boot', 1): 1, ('seafood', 1): 3, ('gener', 1): 3, ('plu', 1): 2, ('buck', 1): 1, ('thu', 1): 1, ('far', 1): 4, ('twice', 1): 5, ('absolut', 1): 6, ('self', 0): 1, ('proclaim', 0): 1, ('coffe', 0): 2, ('cafe', 0): 1, ('wildli', 0): 1, ('veggitarian', 1): 1, ('platter', 1): 1, ('world', 1): 2, ('cant', 1): 2, ('wrong', 1): 4, ('madison', 1): 1, ('ironman', 1): 1, ('kind', 1): 2, ('job', 1): 2, ('dedic', 0): 1, ('boba', 0): 2, ('tea', 0): 2, ('spot', 0): 1, ('even', 0): 10, ('jenni', 0): 1, ('patio', 1): 3, ('outstand', 1): 3, ('goat', 1): 1, ('didn', 1): 4, ('skimp', 1): 1, ('meat', 1): 3, ('mac', 0): 1, ('bachi', 1): 1, ('disappoint', 1): 7, ('stink', 0): 1, ('thing', 0): 6, ('went', 0): 6, ('wrong', 0): 1, ('burn', 0): 1, ('saganaki', 0): 1, ('breakfast', 0): 2, ('done', 0): 5, ('home', 0): 3, ('hate', 0): 3, ('disagre', 0): 1, ('fellow', 0): 1, ('yelper', 0): 1, ('pizza', 0): 6, ('later', 0): 1, ('neighborhood', 0): 1, ('conveni', 0): 1, ('locat', 0): 4, ('pull', 1): 1, ('soooo', 1): 2, ('fish', 1): 2, ('gave', 0): 3, ('rate', 0): 4, ('pleas', 0): 3, ('third', 0): 2, ('bachi', 0): 1, ('write', 0): 1, ('away', 0): 2, ('shrimp', 0): 4, ('stir', 0): 1, ('fri', 0): 9, ('noodl', 0): 1, ('chip', 0): 5, ('count', 0): 1, ('box', 0): 1, ('bore', 0): 1, ('greedi', 0): 1, ('corpor', 0): 1, ('dime', 0): 1, ('atroci', 0): 1, ('summer', 1): 2, ('charm', 1): 1, ('outdoor', 1): 1, ('toast', 0): 1, ('english', 0): 1, ('muffin', 0): 1, ('untoast', 0): 1, ('high', 1): 2, ('hous', 1): 3, ('bu', 0): 1, ('boy', 0): 2, ('hand', 0): 2, ('friend', 0): 5, ('basic', 0): 2, ('figur', 0): 1, ('joke', 0): 2, ('make', 0): 5, ('publicli', 0): 1, ('loudli', 0): 1, ('bbq', 1): 1, ('lighter', 1): 1, ('fare', 1): 1, ('tell', 1): 3, ('public', 1): 1, ('old', 1): 1, ('consid', 1): 2, ('two', 1): 3, ('happi', 1): 8, ('downsid', 0): 1, ('without', 0): 2, ('doubt', 0): 2, ('except', 1): 1, ('review', 1): 2, ('month', 1): 1, ('later', 1): 1, ('favorit', 1): 3, ('shawarrrrrrma', 1): 1, ('black', 1): 1, ('eye', 1): 1, ('pea', 1): 1, ('unreal', 1): 1, ('won', 1): 4, ('vinaigrett', 1): 1, ('far', 0): 3, ('seen', 0): 2, ('egg', 0): 2, ('especi', 0): 1, ('mom', 0): 1, ('immedi', 0): 2, ('pleasant', 0): 1, ('honor', 0): 1, ('hut', 0): 1, ('coupon', 0): 1, ('truli', 1): 1, ('pleas', 1): 3, ('bathroom', 0): 3, ('dirti', 0): 4, ('seat', 0): 4, ('cover', 0): 1, ('replenish', 0): 1, ('plain', 0): 1, ('yucki', 0): 1, ('gold', 0): 1, ('standard', 0): 1, ('omg', 1): 2, ('delicioso', 1): 1, ('authent', 0): 2, ('spaghetti', 0): 1, ('special', 0): 3, ('whatsoev', 0): 1, ('veget', 1): 1, ('authent', 1): 4, ('tucson', 1): 1, ('select', 0): 2, ('chipotl', 1): 1, ('classi', 1): 1, ('warm', 1): 3, ('succul', 1): 1, ('basebal', 1): 1, ('brick', 1): 2, ('oven', 1): 2, ('app', 1): 1, ('multipl', 1): 1, ('ten', 0): 1, ('left', 0): 3, ('terribl', 0): 10, ('treat', 1): 3, ('equal', 1): 2, ('shouldn', 0): 1, ('pancak', 0): 1, ('genuin', 1): 1, ('pleasant', 1): 2, ('enthusiast', 1): 1, ('sadli', 0): 1, ('gordon', 0): 1, ('ramsey', 0): 1, ('shall', 0): 1, ('sharpli', 0): 1, ('next', 0): 6, ('trip', 0): 2, ('life', 1): 1, ('door', 1): 1, ('buffet', 0): 4, ('offer', 0): 2, ('littl', 1): 5, ('cool', 1): 3, ('definit', 0): 9, ('turn', 0): 1, ('els', 0): 3, ('buy', 0): 1, ('handl', 1): 2, ('larg', 1): 3, ('rowdi', 1): 1, ('find', 0): 2, ('despic', 0): 1, ('wife', 0): 2, ('soup', 0): 3, ('lukewarm', 0): 2, ('crave', 1): 1, ('deserv', 1): 1, ('stomach', 0): 3, ('ach', 0): 1, ('rest', 0): 1, ('drop', 0): 1, ('ball', 0): 1, ('space', 1): 1, ('tini', 1): 1, ('elegantli', 1): 1, ('comfort', 1): 2, ('usual', 1): 1, ('eggplant', 1): 2, ('green', 1): 1, ('bean', 1): 2, ('stir', 1): 1, ('bean', 0): 2, ('outta', 0): 1, ('part', 1): 1, ('inconsider', 0): 1, ('hi', 0): 1, ('dinner', 1): 4, ('outshin', 1): 1, ('halibut', 1): 1, ('told', 0): 1, ('happen', 0): 2, ('recommend', 0): 7, ('car', 0): 2, ('front', 0): 2, ('starv', 0): 1, ('deserv', 0): 2, ('disgrac', 0): 2, ('def', 1): 1, ('ethic', 1): 1, ('continu', 1): 1, ('andddd', 1): 1, ('anyon', 1): 1, ('past', 1): 1, ('walk', 1): 1, ('stuf', 1): 2, ('locat', 1): 1, ('crystal', 1): 1, ('shop', 1): 2, ('mall', 1): 1, ('aria', 1): 1, ('summar', 1): 1, ('nay', 1): 1, ('transcend', 1): 1, ('noth', 1): 1, ('bring', 1): 2, ('joy', 1): 1, ('memori', 1): 1, ('pneumat', 1): 1, ('condiment', 1): 1, ('dispens', 1): 1, ('ian', 0): 1, ('kid', 1): 1, ('option', 1): 4, ('kiddo', 1): 1, ('perfect', 1): 12, ('famili', 1): 6, ('see', 1): 2, ('impecc', 1): 2, ('simpli', 0): 2, ('bouchon', 0): 1, ('account', 0): 1, ('screw', 0): 1, ('remind', 1): 2, ('mom', 1): 2, ('pop', 1): 1, ('san', 1): 1, ('francisco', 1): 1, ('buldogi', 1): 1, ('gourmet', 1): 1, ('dog', 1): 1, ('possibl', 1): 1, ('frustrat', 0): 1, ('soon', 1): 2, ('petti', 1): 1, ('don', 1): 3, ('tea', 1): 2, ('hungri', 1): 1, ('leav', 1): 1, ('assur', 1): 2, ('teeth', 0): 1, ('sore', 0): 2, ('complet', 0): 2, ('enjoy', 1): 8, ('think', 1): 3, ('becom', 1): 1, ('regular', 1): 3, ('look', 1): 1, ('overwhelm', 1): 1, ('need', 1): 3, ('stay', 1): 3, ('profession', 1): 2, ('end', 1): 1, ('companion', 1): 1, ('told', 1): 2, ('textur', 1): 1, ('ground', 0): 1, ('right', 0): 3, ('smear', 0): 1, ('track', 0): 1, ('everywher', 0): 1, ('pile', 0): 1, ('green', 0): 3, ('bird', 0): 1, ('poop', 0): 1, ('furthermor', 0): 1, ('oper', 0): 1, ('websit', 0): 1, ('mistak', 0): 2, ('complaint', 1): 1, ('expert', 1): 1, ('connisseur', 1): 1, ('topic', 1): 1, ('jerk', 0): 1, ('strike', 0): 1, ('rush', 0): 1, ('nicest', 1): 2, ('across', 1): 1, ('biscuit', 1): 2, ('quick', 1): 4, ('appet', 0): 1, ('absolutley', 1): 1, ('huge', 0): 1, ('awkward', 0): 1, ('lb', 0): 1, ('piec', 0): 3, ('cow', 0): 1, ('th', 0): 1, ('gristl', 0): 1, ('fat', 0): 1, ('steiner', 1): 1, ('familiar', 1): 1, ('dinner', 0): 3, ('dollar', 0): 1, ('anyway', 1): 1, ('fs', 1): 1, ('week', 1): 2, ('mention', 1): 1, ('combin', 1): 1, ('pear', 1): 1, ('almond', 1): 1, ('big', 1): 1, ('winner', 1): 1, ('sure', 1): 2, ('ask', 1): 2, ('spicier', 1): 1, ('prefer', 1): 1, ('ribey', 1): 1, ('mesquit', 1): 1, ('anytim', 0): 5, ('gooodd', 1): 1, ('connoisseur', 0): 1, ('differ', 0): 2, ('certainli', 0): 1, ('wing', 0): 2, ('contain', 0): 2, ('driest', 0): 2, ('relax', 1): 2, ('venu', 1): 1, ('small', 1): 3, ('group', 1): 3, ('etc', 1): 1, ('nargil', 1): 1, ('tater', 1): 1, ('tot', 1): 2, ('southwest', 1): 1, ('paid', 0): 2, ('vanilla', 1): 1, ('smooth', 1): 1, ('profiterol', 1): 1, ('choux', 1): 1, ('pastri', 1): 1, ('im', 1): 1, ('az', 1): 1, ('new', 1): 3, ('carli', 0): 1, ('due', 0): 1, ('fact', 0): 1, ('acknowledg', 0): 2, ('forget', 0): 1, ('margarita', 1): 1, ('note', 0): 1, ('ventil', 0): 1, ('upgrad', 0): 1, ('letdown', 0): 1, ('rather', 0): 3, ('camelback', 0): 1, ('flower', 0): 1, ('shop', 0): 1, ('cartel', 0): 1, ('chees', 0): 1, ('trim', 1): 1, ('claim', 1): 1, ('bill', 0): 2, ('bring', 0): 4, ('jewel', 1): 1, ('la', 1): 1, ('exactli', 1): 1, ('find', 1): 1, ('nearli', 1): 1, ('ten', 1): 1, ('live', 1): 1, ('limit', 0): 1, ('boil', 0): 1, ('crab', 0): 2, ('leg', 0): 2, ('isn', 1): 1, ('establish', 1): 1, ('toro', 1): 1, ('cavier', 1): 1, ('extraordinari', 1): 1, ('thinli', 1): 1, ('slice', 1): 2, ('wagyu', 1): 1, ('truffl', 1): 1, ('dont', 0): 2, ('long', 0): 5, ('attach', 0): 1, ('ga', 0): 1, ('station', 0): 1, ('awesom', 1): 12, ('mani', 1): 3, ('decid', 1): 2, ('wors', 0): 3, ('humili', 0): 1, ('worker', 0): 2, ('bunch', 0): 1, ('name', 0): 1, ('call', 0): 2, ('conclus', 1): 1, ('fill', 1): 1, ('daili', 1): 1, ('tragedi', 0): 1, ('struck', 0): 1, ('pancak', 1): 2, ('crawfish', 1): 1, ('monster', 1): 1, ('funni', 1): 1, ('multi', 1): 1, ('grain', 1): 1, ('pumpkin', 1): 1, ('pecan', 1): 1, ('fluffi', 1): 1, ('airlin', 0): 1, ('serious', 0): 3, ('manag', 1): 2, ('noca', 0): 1, ('lettuc', 0): 1, ('thoroughli', 0): 1, ('homemad', 1): 3, ('thin', 1): 3, ('cheesecurd', 1): 1, ('typic', 1): 1, ('drive', 0): 2, ('glanc', 1): 1, ('bakeri', 1): 1, ('anyway', 0): 2, ('point', 1): 1, ('finger', 1): 1, ('item', 1): 1, ('haven', 1): 1, ('gone', 1): 1, ('greasi', 0): 1, ('unhealthi', 0): 1, ('meal', 0): 8, ('might', 0): 1, ('similarli', 0): 1, ('deliveri', 0): 1, ('man', 0): 1, ('apolog', 0): 2, ('late', 0): 1, ('expens', 0): 1, ('pack', 1): 1, ('tiramisu', 1): 1, ('cannoli', 1): 1, ('thumb', 1): 3, ('sat', 1): 3, ('sun', 1): 1, ('whole', 1): 1, ('bunch', 1): 1, ('yet', 1): 1, ('choos', 1): 2, ('experienc', 1): 1, ('frenchman', 1): 1, ('martini', 0): 1, ('opinion', 1): 1, ('entre', 1): 1, ('gc', 1): 1, ('opportun', 1): 1, ('sampl', 1): 1, ('thirti', 0): 1, ('vacant', 0): 1, ('folk', 0): 1, ('yellowtail', 1): 1, ('carpaccio', 1): 1, ('found', 0): 4, ('stranger', 0): 1, ('actual', 1): 1, ('last', 1): 3, ('hello', 0): 1, ('dessert', 0): 2, ('strang', 0): 1, ('boyfriend', 1): 3, ('recent', 1): 2, ('donut', 1): 1, ('save', 1): 1, ('room', 1): 1, ('mayb', 0): 3, ('howev', 0): 2, ('recent', 0): 2, ('particular', 0): 1, ('someth', 0): 2, ('suffer', 0): 1, ('tapa', 1): 2, ('heart', 1): 1, ('vinegrett', 0): 1, ('babi', 0): 1, ('palm', 0): 1, ('two', 0): 5, ('believ', 1): 1, ('hanker', 1): 1, ('anyon', 0): 1, ('forth', 0): 1, ('theft', 0): 1, ('eew', 0): 1, ('overhaul', 0): 1, ('wit', 0): 1, ('guest', 0): 1, ('regularli', 1): 1, ('super', 1): 5, ('super', 0): 2, ('swung', 0): 1, ('deepli', 0): 1, ('compani', 1): 1, ('effici', 1): 1, ('fan', 1): 1, ('sucker', 0): 1, ('dri', 0): 5, ('thai', 0): 2, ('pull', 0): 2, ('cheap', 0): 2, ('black', 0): 1, ('oliv', 0): 1, ('perpar', 1): 1, ('present', 1): 1, ('giant', 1): 1, ('toast', 1): 2, ('lightli', 1): 1, ('dust', 1): 1, ('powder', 1): 1, ('sugar', 1): 1, ('kid', 0): 2, ('play', 0): 1, ('fo', 1): 1, ('take', 1): 2, ('accomod', 1): 1, ('vegan', 1): 1, ('veggi', 1): 1, ('felt', 1): 2, ('crumbi', 0): 1, ('pale', 0): 1, ('color', 0): 2, ('instead', 0): 1, ('nice', 0): 3, ('char', 0): 1, ('crouton', 1): 1, ('crema', 1): 1, ('caf', 1): 1, ('expand', 1): 1, ('wish', 1): 1, ('philadelphia', 1): 1, ('sit', 0): 2, ('fairli', 0): 2, ('fast', 0): 1, ('crisp', 1): 1, ('valu', 1): 1, ('couldn', 1): 1, ('north', 1): 1, ('scottsdal', 1): 1, ('owner', 0): 3, ('soooooo', 0): 1, ('wrap', 0): 1, ('freak', 0): 1, ('sandwich', 0): 3, ('paper', 0): 1, ('coupl', 0): 1, ('ago', 0): 1, ('reheat', 0): 1, ('ok', 0): 3, ('wedg', 0): 1, ('sorri', 0): 1, ('cow', 1): 1, ('tongu', 1): 1, ('cheek', 1): 1, ('bloodi', 0): 1, ('mari', 0): 1, ('despit', 0): 1, ('grill', 1): 2, ('yellow', 1): 1, ('saffron', 1): 1, ('thru', 0): 1, ('mean', 0): 3, ('half', 0): 2, ('somehow', 0): 1, ('luck', 0): 1, ('non', 0): 1, ('focus', 0): 2, ('new', 0): 2, ('grandmoth', 0): 1, ('multipl', 0): 1, ('wine', 0): 2, ('list', 0): 2, ('hostess', 0): 1, ('especi', 1): 2, ('boy', 1): 1, ('babi', 1): 1, ('four', 1): 1, ('blue', 1): 1, ('shirt', 1): 1, ('vibe', 1): 2, ('let', 1): 1, ('drastic', 0): 1, ('caesar', 1): 1, ('promptli', 1): 1, ('madhous', 0): 1, ('proven', 1): 1, ('dead', 1): 1, ('greatest', 0): 1, ('mood', 0): 1, ('macaron', 1): 1, ('insan', 1): 1, ('inform', 1): 1, ('weren', 0): 1, ('somewhat', 0): 1, ('edibl', 0): 3, ('promis', 0): 1, ('fail', 0): 3, ('deliv', 0): 1, ('averag', 0): 4, ('big', 0): 2, ('bay', 0): 2, ('plater', 0): 1, ('sit', 1): 1, ('togeth', 1): 1, ('poorli', 0): 1, ('construct', 0): 1, ('italian', 1): 2, ('scream', 1): 1, ('legit', 1): 2, ('book', 1): 1, ('somethat', 1): 1, ('duo', 1): 1, ('violinist', 1): 1, ('song', 1): 1, ('request', 1): 1, ('baklava', 1): 1, ('falafel', 1): 1, ('baba', 1): 1, ('ganoush', 1): 1, ('conveni', 1): 1, ('mgm', 1): 1, ('courteou', 1): 1, ('eclect', 1): 1, ('onion', 1): 1, ('ring', 1): 1, ('close', 1): 2, ('pictur', 1): 1, ('work', 1): 1, ('nobu', 1): 1, ('similar', 1): 1, ('half', 1): 1, ('googl', 0): 1, ('smashburg', 0): 1, ('pop', 0): 1, ('promis', 1): 1, ('doubl', 1): 1, ('cheeseburg', 1): 1, ('neighborhood', 1): 1, ('gem', 1): 1, ('plantain', 0): 1, ('gave', 1): 1, ('spend', 0): 3, ('panna', 1): 1, ('cotta', 1): 1, ('damn', 1): 1, ('brunch', 0): 1, ('slaw', 1): 1, ('drench', 1): 1, ('mayo', 1): 1, ('piano', 1): 1, ('soundtrack', 1): 1, ('rge', 1): 1, ('fillet', 1): 1, ('relleno', 1): 1, ('plate', 1): 1, ('sergeant', 1): 1, ('pepper', 1): 1, ('auju', 1): 1, ('hawaiian', 1): 1, ('breez', 1): 1, ('mango', 1): 1, ('magic', 1): 1, ('pineappl', 1): 1, ('smoothi', 1): 1, ('amaz', 0): 2, ('quickli', 0): 1, ('mortifi', 0): 1, ('needless', 0): 2, ('fill', 0): 2, ('drip', 0): 1, ('mostli', 0): 1, ('strip', 0): 1, ('cashier', 1): 1, ('brought', 1): 1, ('hospit', 0): 1, ('industri', 0): 1, ('paradis', 0): 1, ('refrain', 0): 1, ('cibo', 0): 1, ('longer', 0): 2, ('famou', 0): 1, ('read', 0): 2, ('pro', 1): 1, ('simpl', 1): 2, ('dough', 1): 1, ('tonight', 0): 1, ('elk', 0): 1, ('bite', 1): 1, ('hook', 1): 1, ('classic', 0): 1, ('quaint', 1): 1, ('honest', 1): 1, ('compliment', 1): 1, ('thank', 1): 1, ('dylan', 1): 1, ('tummi', 1): 1, ('gratuiti', 1): 1, ('bill', 1): 1, ('larger', 1): 1, ('tip', 1): 1, ('fli', 0): 2, ('appl', 0): 1, ('juic', 0): 1, ('han', 1): 1, ('nan', 1): 1, ('bare', 0): 6, ('ryan', 0): 1, ('edinburgh', 0): 1, ('revisit', 0): 1, ('chines', 1): 2, ('indian', 1): 1, ('naan', 1): 1, ('pine', 1): 1, ('nut', 1): 1, ('touch', 0): 1, ('airport', 1): 1, ('speedi', 1): 1, ('calligraphi', 1): 1, ('paper', 1): 2, ('anyth', 1): 1, ('complain', 1): 1, ('stood', 0): 1, ('begin', 0): 1, ('awkwardli', 0): 1, ('open', 0): 1, ('guest', 1): 1, ('extens', 1): 1, ('wide', 1): 1, ('array', 1): 1, ('inflat', 0): 1, ('portion', 0): 2, ('smaller', 0): 1, ('grow', 0): 1, ('rapidli', 0): 1, ('lil', 1): 1, ('fuzzi', 1): 1, ('fabul', 1): 1, ('vinegrett', 1): 1, ('wonton', 1): 1, ('thick', 1): 1, ('chewi', 1): 1, ('almost', 1): 1, ('level', 1): 1, ('spice', 1): 1, ('whelm', 1): 1, ('soup', 1): 2, ('crowd', 0): 2, ('older', 0): 1, ('mid', 0): 2, ('arepa', 0): 1, ('jalapeno', 1): 1, ('that', 0): 1, ('clean', 0): 2, ('oh', 0): 1, ('shoe', 0): 1, ('leather', 0): 1, ('beyond', 0): 1, ('defin', 1): 2, ('block', 1): 1, ('low', 1): 1, ('key', 1): 1, ('non', 1): 1, ('fanci', 1): 1, ('afford', 1): 1, ('sour', 1): 1, ('flower', 1): 1, ('sunday', 1): 1, ('tradit', 0): 1, ('hunan', 0): 1, ('style', 0): 3, ('bother', 0): 2, ('flair', 1): 1, ('margarita', 0): 1, ('nutshel', 0): 1, ('restaraunt', 0): 1, ('combin', 0): 1, ('market', 0): 1, ('sewer', 0): 1, ('girlfriend', 0): 1, ('veal', 0): 1, ('satifi', 1): 1, ('join', 1): 1, ('club', 1): 1, ('offer', 1): 1, ('via', 1): 1, ('email', 1): 1, ('someon', 1): 1, ('cold', 1): 1, ('case', 1): 1, ('colder', 1): 1, ('flavorless', 0): 2, ('describ', 0): 1, ('tepid', 0): 1, ('chain', 0): 1, ('fan', 0): 1, ('beat', 0): 2, ('easili', 0): 1, ('nacho', 1): 1, ('word', 1): 1, ('crazi', 1): 1, ('crowd', 1): 1, ('downtown', 1): 1, ('juri', 1): 1, ('lawyer', 1): 1, ('court', 1): 1, ('wienerschnitzel', 0): 1, ('idea', 0): 1, ('classic', 1): 1, ('main', 1): 1, ('lobster', 1): 1, ('brother', 0): 1, ('law', 0): 1, ('mall', 0): 1, ('herea', 1): 1, ('tribut', 1): 2, ('held', 1): 1, ('salsa', 1): 2, ('impress', 1): 1, ('pissd', 0): 1, ('veget', 0): 3, ('surpris', 1): 1, ('golden', 1): 1, ('high', 0): 2, ('fell', 0): 1, ('bruschetta', 1): 1, ('devin', 1): 1, ('employe', 0): 2, ('lastli', 1): 1, ('mozzarella', 1): 1, ('neglig', 0): 1, ('unwelcom', 0): 1, ('suggest', 0): 1, ('though', 0): 1, ('consist', 0): 1, ('pack', 0): 1, ('fruit', 1): 1, ('peach', 1): 1, ('offici', 0): 1, ('honestli', 0): 1, ('blown', 0): 1, ('put', 1): 1, ('plastic', 1): 1, ('contain', 1): 1, ('oppos', 1): 1, ('cram', 1): 1, ('takeout', 1): 1, ('box', 1): 1, ('cr', 1): 1, ('pe', 1): 1, ('delic', 1): 1, ('aw', 0): 3, ('gone', 0): 2, ('fair', 0): 1, ('kabuki', 0): 1, ('hip', 0): 1, ('thought', 0): 2, ('maria', 1): 1, ('job', 0): 2, ('surpris', 0): 1, ('articl', 0): 1, ('spice', 0): 1, ('fuck', 0): 1, ('caballero', 1): 1, ('buck', 0): 1, ('head', 0): 2, ('pace', 1): 1, ('ate', 1): 1, ('believ', 0): 2, ('oyster', 0): 1, ('round', 1): 1, ('disbelief', 0): 1, ('qualifi', 0): 1, ('version', 0): 1, ('low', 0): 1, ('toler', 0): 1, ('polit', 0): 1, ('wash', 0): 1, ('otherwis', 0): 1, ('heat', 1): 1, ('coconut', 0): 1, ('fella', 0): 1, ('huevo', 0): 1, ('ranchero', 0): 1, ('appeal', 0): 1, ('hour', 1): 1, ('pricey', 1): 1, ('pay', 1): 1, ('talk', 1): 1, ('cours', 1): 1, ('room', 0): 2, ('temp', 0): 1, ('glove', 0): 1, ('deep', 0): 1, ('oil', 0): 1, ('pleasur', 1): 1, ('plethora', 1): 1, ('seal', 1): 1, ('approv', 1): 1, ('colleg', 0): 1, ('class', 0): 1, ('start', 0): 2, ('edit', 0): 1, ('besid', 0): 1, ('costco', 0): 1, ('uniqu', 1): 1, ('complet', 1): 1, ('weird', 0): 1, ('vibe', 0): 1, ('hardli', 0): 1, ('bagel', 0): 1, ('groceri', 0): 1, ('store', 0): 1, ('gyro', 1): 1, ('japanes', 1): 1, ('dude', 1): 1, ('aren', 0): 2, ('doughi', 0): 1, ('inch', 0): 1, ('wire', 0): 1, ('salsa', 0): 1, ('albondiga', 0): 1, ('tomato', 0): 1, ('meatbal', 0): 1, ('three', 0): 2, ('occas', 0): 1, ('medium', 0): 1, ('bloodiest', 0): 1, ('plate', 0): 1, ('refus', 0): 1, ('anymor', 0): 1, ('killer', 1): 1, ('chai', 1): 1, ('latt', 1): 1, ('allergi', 0): 1, ('warn', 0): 1, ('clue', 0): 1, ('peanut', 0): 1, ('mediterranean', 1): 1, ('fell', 1): 1, ('rotat', 1): 1, ('tap', 1): 1, ('concern', 0): 1, ('mellow', 0): 1, ('mushroom', 0): 1, ('least', 1): 1, ('strawberri', 1): 1, ('highli', 0): 1, ('unprofession', 0): 1, ('loyal', 0): 1, ('patron', 0): 1, ('occasion', 1): 1, ('pat', 1): 1, ('bellagio', 0): 1, ('anticip', 0): 1, ('weak', 0): 1, ('correct', 0): 2, ('bought', 0): 1, ('hous', 0): 1, ('sal', 1): 1, ('fav', 1): 1, ('cannot', 0): 1, ('unexperienc', 0): 1, ('cut', 0): 1, ('steakhous', 0): 1, ('properli', 0): 1, ('understand', 0): 1, ('concept', 0): 1, ('crazi', 0): 1, ('guacamol', 0): 1, ('pur', 0): 1, ('ed', 0): 1, ('postino', 0): 1, ('poison', 0): 1, ('batch', 0): 1, ('yay', 0): 1, ('hilari', 0): 1, ('yummi', 0): 1, ('christma', 0): 1, ('eve', 0): 1, ('rememb', 0): 1, ('biggest', 0): 1, ('entir', 0): 1, ('teamwork', 1): 1, ('degre', 1): 1, ('ri', 0): 1, ('calamari', 0): 1, ('garlic', 0): 1, ('fondu', 0): 1, ('complain', 0): 1, ('lost', 0): 2, ('finish', 0): 1, ('forev', 0): 1, ('scene', 0): 1, ('denni', 0): 1, ('downright', 0): 1, ('waaaaaayyyyyyyyyi', 0): 1, ('sangria', 0): 1, ('glass', 0): 1, ('ridicul', 0): 1, ('slice', 0): 1, ('brisket', 0): 1, ('pork', 0): 1, ('neat', 0): 1, ('trippi', 0): 1, ('equal', 0): 1, ('hurri', 0): 1, ('reserv', 0): 1, ('stretch', 0): 1, ('cashew', 0): 1, ('cream', 0): 1, ('undercook', 0): 2, ('chipolt', 0): 1, ('ranch', 0): 1, ('dip', 0): 1, ('saus', 0): 1, ('thin', 0): 1, ('heat', 0): 1, ('sweet', 0): 1, ('vegetarian', 0): 1, ('fare', 0): 1, ('twice', 0): 1, ('ambianc', 0): 2, ('set', 0): 2, ('douchey', 0): 1, ('indoor', 0): 1, ('garden', 0): 1, ('biscuit', 0): 1, ('con', 0): 1, ('spotti', 0): 1, ('neither', 0): 1, ('ensu', 0): 1, ('anyth', 0): 1, ('bing', 0): 1, ('carb', 0): 1, ('profound', 0): 1, ('deuchebaggeri', 0): 1, ('smoke', 0): 1, ('solidifi', 0): 1, ('taco', 0): 2, ('part', 0): 1, ('combo', 0): 1, ('ala', 0): 1, ('cart', 0): 1, ('blame', 0): 1, ('door', 0): 2, ('del', 0): 1, ('decent', 0): 1, ('hamburg', 0): 1, ('hell', 0): 1, ('gotten', 0): 1, ('ya', 0): 1, ('guy', 0): 1, ('shot', 0): 1, ('firebal', 0): 1, ('disapppoint', 0): 1, ('entre', 0): 1, ('heimer', 0): 1, ('put', 0): 1, ('caus', 0): 1, ('famili', 0): 1, ('own', 0): 1, ('vomit', 0): 1, ('becom', 0): 1, ('circumst', 0): 1, ('top', 0): 1, ('tuna', 0): 1, ('brownish', 0): 1, ('obvious', 0): 1, ('nacho', 0): 1, ('movi', 0): 1, ('ha', 0): 1, ('flop', 0): 1, ('problem', 0): 1, ('bigger', 0): 1, ('subway', 0): 1, ('amount', 0): 1, ('unwrap', 0): 1, ('mile', 0): 1, ('brushfir', 0): 1, ('ice', 0): 1, ('hasn', 0): 1, ('mirag', 0): 1, ('refri', 0): 1, ('crusti', 0): 1, ('caterpillar', 0): 1, ('present', 0): 1, ('appetit', 0): 1, ('instantli', 0): 1, ('whole', 0): 1, ('ninja', 0): 1, ('hadn', 0): 1, ('life', 0): 1, ('pour', 0): 1, ('wound', 0): 1, ('draw', 0): 1}\n"
     ]
    }
   ],
   "source": [
    "yslist = df.iloc[:,-1].values\n",
    "#print(yslist)\n",
    "print(len(yslist))\n",
    "print(len(corpus))\n",
    "freqs = {}\n",
    "for y, review in zip(yslist, corpus):\n",
    "    print(y,review)\n",
    "    for word in review.split():\n",
    "        pair = (word, y)\n",
    "        #print(pair)\n",
    "        if pair in freqs:\n",
    "            freqs[pair] += 1\n",
    "        else:\n",
    "            freqs[pair] = 1\n",
    "\n",
    "print(freqs)"
   ]
  },
  {
   "cell_type": "markdown",
   "metadata": {},
   "source": [
    "## Feature Extraction"
   ]
  },
  {
   "cell_type": "code",
   "execution_count": 12,
   "metadata": {},
   "outputs": [
    {
     "name": "stdout",
     "output_type": "stream",
     "text": [
      "[[  1  93  55]\n",
      " [  1  91 122]\n",
      " [  1  27 106]\n",
      " ...\n",
      " [  1  94 307]\n",
      " [  1  76 107]\n",
      " [  1  40  68]]\n"
     ]
    }
   ],
   "source": [
    "x = np.zeros((1000,3),dtype = int)\n",
    "\n",
    "#setting bias terms i.e., 1\n",
    "for i in range(1000):\n",
    "    x[i,0] = 1\n",
    "\n",
    "for i,review in zip(range(1000),corpus):\n",
    "    for word in review.split():\n",
    "        # increment the word count for the positive label 1\n",
    "        x[i,1] += freqs.get((word, 1.0),0)\n",
    "\n",
    "        # increment the word count for the negative label 0\n",
    "        x[i,2] += freqs.get((word, 0.0),0)\n",
    "print(x)"
   ]
  },
  {
   "cell_type": "code",
   "execution_count": 13,
   "metadata": {},
   "outputs": [],
   "source": [
    "x_ind = x"
   ]
  },
  {
   "cell_type": "markdown",
   "metadata": {},
   "source": [
    "# Applying PCA"
   ]
  },
  {
   "cell_type": "code",
   "execution_count": 14,
   "metadata": {},
   "outputs": [
    {
     "name": "stdout",
     "output_type": "stream",
     "text": [
      "[0.80873661 0.19126339]\n"
     ]
    }
   ],
   "source": [
    "from sklearn.decomposition import PCA\n",
    "pca = PCA(n_components = 2)\n",
    "x_ind = pca.fit_transform(x_ind)\n",
    "var = pca.explained_variance_ratio_\n",
    "print(var)"
   ]
  },
  {
   "cell_type": "markdown",
   "metadata": {},
   "source": [
    "# Train/Test Split"
   ]
  },
  {
   "cell_type": "code",
   "execution_count": 15,
   "metadata": {},
   "outputs": [
    {
     "name": "stdout",
     "output_type": "stream",
     "text": [
      "shape of x_train -  (800, 3)\n",
      "shape of y_train -  (800,)\n",
      "shape of x_test -  (200, 3)\n",
      "shape of x_test -  (200, 3)\n"
     ]
    }
   ],
   "source": [
    "from sklearn.model_selection import train_test_split\n",
    "x_train,x_test,y_train,y_test = train_test_split(x,yslist,test_size = 0.2,random_state = 6)\n",
    "print(\"shape of x_train - \",x_train.shape)\n",
    "print(\"shape of y_train - \",y_train.shape)\n",
    "print(\"shape of x_test - \",x_test.shape)\n",
    "print(\"shape of x_test - \",x_test.shape)"
   ]
  },
  {
   "cell_type": "markdown",
   "metadata": {},
   "source": [
    "# Model - 1 - Support Vector Machine (SVM)"
   ]
  },
  {
   "cell_type": "code",
   "execution_count": 16,
   "metadata": {},
   "outputs": [],
   "source": [
    "from sklearn.svm import SVC\n",
    "from sklearn.pipeline import Pipeline\n",
    "svm = SVC(kernel = 'linear',random_state = 6)"
   ]
  },
  {
   "cell_type": "markdown",
   "metadata": {},
   "source": [
    "## Creating Pipeline"
   ]
  },
  {
   "cell_type": "code",
   "execution_count": 17,
   "metadata": {},
   "outputs": [
    {
     "data": {
      "text/plain": [
       "Pipeline(steps=[('classifier', SVC(kernel='linear', random_state=6))])"
      ]
     },
     "execution_count": 17,
     "metadata": {},
     "output_type": "execute_result"
    }
   ],
   "source": [
    "from sklearn.pipeline import Pipeline\n",
    "model = Pipeline([('classifier',svm)])\n",
    "model.fit(x_train,y_train)"
   ]
  },
  {
   "cell_type": "markdown",
   "metadata": {},
   "source": [
    "## Prediction"
   ]
  },
  {
   "cell_type": "code",
   "execution_count": 18,
   "metadata": {},
   "outputs": [],
   "source": [
    "yhat = model.predict(x_test)"
   ]
  },
  {
   "cell_type": "markdown",
   "metadata": {},
   "source": [
    "## Plotting Confusion Matrix and Calculating Accuracy Score"
   ]
  },
  {
   "cell_type": "code",
   "execution_count": 19,
   "metadata": {},
   "outputs": [
    {
     "name": "stdout",
     "output_type": "stream",
     "text": [
      "0.905\n"
     ]
    },
    {
     "data": {
      "image/png": "[encoded data removed]",
      "text/plain": [
       "<Figure size 432x288 with 2 Axes>"
      ]
     },
     "metadata": {
      "needs_background": "light"
     },
     "output_type": "display_data"
    }
   ],
   "source": [
    "from sklearn.metrics import plot_confusion_matrix,accuracy_score\n",
    "plot_confusion_matrix(estimator = svm ,X = x_test, y_true = y_test)\n",
    "print(accuracy_score(yhat,y_test))"
   ]
  },
  {
   "cell_type": "markdown",
   "metadata": {},
   "source": [
    "# Model - 2 - K Nearest Neighbor (KNN) "
   ]
  },
  {
   "cell_type": "code",
   "execution_count": 20,
   "metadata": {},
   "outputs": [],
   "source": [
    "from sklearn.neighbors import KNeighborsClassifier\n",
    "knn = KNeighborsClassifier(n_neighbors = 10, metric = 'minkowski',p=2)"
   ]
  },
  {
   "cell_type": "markdown",
   "metadata": {},
   "source": [
    "## Creating Pipeline"
   ]
  },
  {
   "cell_type": "code",
   "execution_count": 21,
   "metadata": {},
   "outputs": [
    {
     "data": {
      "text/plain": [
       "Pipeline(steps=[('classifier', KNeighborsClassifier(n_neighbors=10))])"
      ]
     },
     "execution_count": 21,
     "metadata": {},
     "output_type": "execute_result"
    }
   ],
   "source": [
    "from sklearn.pipeline import Pipeline\n",
    "model = Pipeline([('classifier',knn)])\n",
    "model.fit(x_train,y_train)"
   ]
  },
  {
   "cell_type": "markdown",
   "metadata": {},
   "source": [
    "## Prediction"
   ]
  },
  {
   "cell_type": "code",
   "execution_count": 22,
   "metadata": {},
   "outputs": [],
   "source": [
    "yhat = model.predict(x_test)"
   ]
  },
  {
   "cell_type": "markdown",
   "metadata": {},
   "source": [
    "## Plotting Confusion Matrix and Calculating Accuracy Score"
   ]
  },
  {
   "cell_type": "code",
   "execution_count": 29,
   "metadata": {},
   "outputs": [
    {
     "name": "stdout",
     "output_type": "stream",
     "text": [
      "0.905\n",
      "Accuracy of the model is -  90.5 %\n"
     ]
    },
    {
     "data": {
      "image/png": "[encoded data removed]",
      "text/plain": [
       "<Figure size 432x288 with 2 Axes>"
      ]
     },
     "metadata": {
      "needs_background": "light"
     },
     "output_type": "display_data"
    }
   ],
   "source": [
    "from sklearn.metrics import plot_confusion_matrix,accuracy_score\n",
    "plot_confusion_matrix(estimator = knn ,X = x_test, y_true = y_test)\n",
    "accuracy = accuracy_score(yhat,y_test)\n",
    "print(accuracy_score(yhat,y_test))\n",
    "print(\"Accuracy of the model is - \",accuracy*100,\"%\")"
   ]
  },
  {
   "cell_type": "markdown",
   "metadata": {},
   "source": [
    "# Model - 3 - Support Vector Machine with PCA (SVM with PCA)"
   ]
  },
  {
   "cell_type": "code",
   "execution_count": 24,
   "metadata": {},
   "outputs": [],
   "source": [
    "from sklearn.model_selection import train_test_split\n",
    "x_tr,x_te,y_tr,y_te = train_test_split(x_ind,yslist,test_size = 0.2,random_state = 6)"
   ]
  },
  {
   "cell_type": "code",
   "execution_count": 25,
   "metadata": {},
   "outputs": [],
   "source": [
    "from sklearn.svm import SVC\n",
    "from sklearn.pipeline import Pipeline\n",
    "svm = SVC(kernel = 'linear',random_state  = 6)"
   ]
  },
  {
   "cell_type": "markdown",
   "metadata": {},
   "source": [
    "## Creating Pipeline"
   ]
  },
  {
   "cell_type": "code",
   "execution_count": 26,
   "metadata": {},
   "outputs": [
    {
     "data": {
      "text/plain": [
       "Pipeline(steps=[('classifier', SVC(kernel='linear', random_state=6))])"
      ]
     },
     "execution_count": 26,
     "metadata": {},
     "output_type": "execute_result"
    }
   ],
   "source": [
    "from sklearn.pipeline import Pipeline\n",
    "model = Pipeline([('classifier',svm)])\n",
    "model.fit(x_tr,y_tr)"
   ]
  },
  {
   "cell_type": "markdown",
   "metadata": {},
   "source": [
    "## Prediction"
   ]
  },
  {
   "cell_type": "code",
   "execution_count": 27,
   "metadata": {},
   "outputs": [],
   "source": [
    "y_pr = model.predict(x_te)"
   ]
  },
  {
   "cell_type": "markdown",
   "metadata": {},
   "source": [
    "## Plotting Confusion Matrix and Calcuating accuracy score."
   ]
  },
  {
   "cell_type": "code",
   "execution_count": 28,
   "metadata": {},
   "outputs": [
    {
     "name": "stdout",
     "output_type": "stream",
     "text": [
      "0.905\n"
     ]
    },
    {
     "data": {
      "image/png": "[encoded data removed]",
      "text/plain": [
       "<Figure size 432x288 with 2 Axes>"
      ]
     },
     "metadata": {
      "needs_background": "light"
     },
     "output_type": "display_data"
    }
   ],
   "source": [
    "from sklearn.metrics import plot_confusion_matrix,accuracy_score\n",
    "plot_confusion_matrix(estimator = svm ,X = x_te, y_true = y_te)\n",
    "print(accuracy_score(yhat,y_test))"
   ]
  },
  {
   "cell_type": "code",
   "execution_count": null,
   "metadata": {},
   "outputs": [],
   "source": []
  }
 ],
 "metadata": {
  "kernelspec": {
   "display_name": "Python 3",
   "language": "python",
   "name": "python3"
  },
  "language_info": {
   "codemirror_mode": {
    "name": "ipython",
    "version": 3
   },
   "file_extension": ".py",
   "mimetype": "text/x-python",
   "name": "python",
   "nbconvert_exporter": "python",
   "pygments_lexer": "ipython3",
   "version": "3.7.6"
  }
 },
 "nbformat": 4,
 "nbformat_minor": 4
}
